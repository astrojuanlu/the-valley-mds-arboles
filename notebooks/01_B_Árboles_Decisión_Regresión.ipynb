{
 "cells": [
  {
   "cell_type": "markdown",
   "metadata": {
    "id": "R53FGLN8jo1L"
   },
   "source": [
    "# 01 INTRO: Árboles de Decisión\n",
    "Explicación de cómo construír árboles de decisión.\n",
    "\n",
    "Notebook original por [Javier Blanco Cordero](https://www.linkedin.com/in/javier-blanco-cordero-71373656/)."
   ]
  },
  {
   "cell_type": "markdown",
   "metadata": {
    "id": "LSuEDXhPLi8u"
   },
   "source": [
    "## 0101 Qué es un árbol de decisión?\n",
    "Un tipo de algoritmo de aprendizaje supervisado que se basa en realizar particiones a partir de distintos niveles de las variables disponibles."
   ]
  },
  {
   "cell_type": "markdown",
   "metadata": {
    "id": "cnHRaho3rsXS"
   },
   "source": [
    "## 0102 Import\n",
    "Importamos todas las librerías necesarias para este análisis ([¿No sabes lo que es una librería de Python?](https://www.quora.com/What-is-a-Python-library-and-what-can-I-use-it-for)): pandas, numpy, seaborn, matplotlib."
   ]
  },
  {
   "cell_type": "code",
   "execution_count": null,
   "metadata": {
    "id": "4be6xiUqjPHI"
   },
   "outputs": [],
   "source": [
    "import pandas as pd\n",
    "import numpy as np\n",
    "import matplotlib.pyplot as plt\n",
    "import seaborn as sns"
   ]
  },
  {
   "cell_type": "markdown",
   "metadata": {
    "id": "AblkT14d4Gvt"
   },
   "source": [
    "## 0103 Carga el dataset de notas de estudiantes\n",
    "Para probar a hacer árboles de decisión de Regresión utilizaremos un dataset sobre las notas de ciertos estudiantes portugueses de dos instituos en función de ciertas características socio-demográficas. El dataset original se puede encontrr en Kaggle ([aquí](https://www.kaggle.com/dipam7/student-grade-prediction)).\n",
    "\n",
    "Podéis encontrar una versión lista para usar con árboles de decisión en en mi github: 'https://raw.githubusercontent.com/astrojuanlu/the-valley-mds-arboles/main/data/Notas_Estudiantes_Limpio.csv'.\n",
    "\n",
    "Importa este dataset en un dataframe llamado **df**."
   ]
  },
  {
   "cell_type": "code",
   "execution_count": null,
   "metadata": {
    "id": "GMZACcIXOclu"
   },
   "outputs": [],
   "source": [
    "# Url archivo raw\n",
    "url = \"https://raw.githubusercontent.com/astrojuanlu/the-valley-mds-arboles/main/data/Notas_Estudiantes_Limpio.csv\"\n",
    "\n",
    "# Importa csv\n",
    "df = pd.read_csv(url)\n",
    "\n",
    "# Visualización primeras filas\n",
    "df.head()"
   ]
  },
  {
   "cell_type": "markdown",
   "metadata": {
    "id": "KBOQJ0AjdYrM"
   },
   "source": [
    "# 02 EDA\n",
    "Realizaremos un pequeño análisis exploratorio visual para familiarizarnos con el dataset."
   ]
  },
  {
   "cell_type": "code",
   "execution_count": null,
   "metadata": {
    "id": "qGrwhGyaj0-a"
   },
   "outputs": [],
   "source": [
    "df.info()"
   ]
  },
  {
   "cell_type": "code",
   "execution_count": null,
   "metadata": {
    "id": "8LoZpl8rjWEX"
   },
   "outputs": [],
   "source": [
    "df.describe()"
   ]
  },
  {
   "cell_type": "code",
   "execution_count": null,
   "metadata": {
    "id": "YUz-qSwBjaEW"
   },
   "outputs": [],
   "source": [
    "# Visualización coeficientes Pearson\n",
    "plt.figure(figsize=(12, 10))\n",
    "sns.heatmap(np.round(df.corr(), 2), vmin=-1, vmax=1, annot=True, cmap=\"coolwarm\")\n",
    "plt.show()"
   ]
  },
  {
   "cell_type": "markdown",
   "metadata": {
    "id": "sRO6wMepPOJj"
   },
   "source": [
    "# 03 Construcción árbol de decisión con scikit learn\n",
    "Utilizando la librería [scikit learn](https://scikit-learn.org/stable/), la libería básica de referencia para machine learning, construíremos un árbol de decisión de regresión."
   ]
  },
  {
   "cell_type": "code",
   "execution_count": null,
   "metadata": {
    "id": "ggXz7oXjCLfM"
   },
   "outputs": [],
   "source": [
    "# Siguiendo el ejemplo de las diapositivas, entrenaremos un modelo\n",
    "# utilizando sólo las variables 'Nivel Edu Madre', 'Tiempo Estudio', 'Ausencias'\n",
    "cols = [\"Nivel Edu Madre\", \"Tiempo Estudio\", \"Ausencias\"]\n",
    "X = df[cols]\n",
    "y = df[\"Nota\"]"
   ]
  },
  {
   "cell_type": "markdown",
   "metadata": {
    "id": "SXSNgNJrsdva"
   },
   "source": [
    "## 0301 Importamos las librerías"
   ]
  },
  {
   "cell_type": "code",
   "execution_count": null,
   "metadata": {
    "id": "dpc44ulgPFkN"
   },
   "outputs": [],
   "source": [
    "# Nos importamos las funciones de árboles de scikit learn\n",
    "from sklearn import tree"
   ]
  },
  {
   "cell_type": "markdown",
   "metadata": {
    "id": "H9WKeVmAv89P"
   },
   "source": [
    "## 0302 Inicializamos el árbol\n",
    "Definiendo las características que tendrá.\n",
    "\n",
    "https://scikit-learn.org/stable/modules/generated/sklearn.tree.DecisionTreeRegressor.html"
   ]
  },
  {
   "cell_type": "code",
   "execution_count": null,
   "metadata": {
    "id": "c_yzGJ-UP6wq"
   },
   "outputs": [],
   "source": [
    "# Inicializamos un árbol. Por ahora está vacío.\n",
    "# Solo definimos cómo queremos que sea en cuanto a su estructura y condiciones de entrenamiento\n",
    "arbol = tree.DecisionTreeRegressor(max_depth=3)\n",
    "arbol"
   ]
  },
  {
   "cell_type": "markdown",
   "metadata": {
    "id": "1_Q84Q2GJjDC"
   },
   "source": [
    "## 0303 Entrenamos el modelo\n",
    "Una vez inicializado y definido el árbol, el método .[fit()](https://scikit-learn.org/stable/modules/generated/sklearn.tree.DecisionTreeClassifier.html#sklearn.tree.DecisionTreeClassifier.fit) realiza el proceso de particionado recursivo que hemos hecho nosotros antes a mano."
   ]
  },
  {
   "cell_type": "code",
   "execution_count": null,
   "metadata": {
    "id": "QzlRebscRxCe"
   },
   "outputs": [],
   "source": [
    "# Entrenamos el árbol inicializado a partir de los datos que le pasemos con .fit()\n",
    "arbol = arbol.fit(X=X, y=y)\n",
    "arbol"
   ]
  },
  {
   "cell_type": "markdown",
   "metadata": {
    "id": "akjuRe9yLQ8R"
   },
   "source": [
    "##0304 Visualizamos el modelo\n",
    "Una vez entrenado el modelo, podemos visualizarlo."
   ]
  },
  {
   "cell_type": "code",
   "execution_count": null,
   "metadata": {
    "id": "23xmBvxkRFsq"
   },
   "outputs": [],
   "source": [
    "# Con el método export_text\n",
    "print(tree.export_text(arbol, feature_names=list(X.columns)))"
   ]
  },
  {
   "cell_type": "code",
   "execution_count": null,
   "metadata": {
    "id": "mcJgYPAMQSNG"
   },
   "outputs": [],
   "source": [
    "# O con la librería graphviz\n",
    "import graphviz\n",
    "\n",
    "# Export_graphviz\n",
    "dot_data = tree.export_graphviz(arbol, out_file=None, feature_names=list(X.columns))\n",
    "graph = graphviz.Source(dot_data)\n",
    "graph"
   ]
  },
  {
   "cell_type": "markdown",
   "metadata": {
    "id": "WYs1eiOgMKWU"
   },
   "source": [
    "## 0305 Realizamos una predicción\n",
    "Una vez el modelo está entrenado (definido) podemos pasarle datos para obtener las prediciones correspondientes de la variable objetivo.\n",
    "\n",
    "Para esto utilizamos el método .[predict()](https://scikit-learn.org/stable/modules/generated/sklearn.tree.DecisionTreeClassifier.html#sklearn.tree.DecisionTreeClassifier.predict)."
   ]
  },
  {
   "cell_type": "code",
   "execution_count": null,
   "metadata": {
    "id": "acmqdf6ByLdw"
   },
   "outputs": [],
   "source": [
    "# Predicción\n",
    "prediccion = arbol.predict(X)"
   ]
  },
  {
   "cell_type": "code",
   "execution_count": null,
   "metadata": {
    "id": "3cMYHbiDyRPW"
   },
   "outputs": [],
   "source": [
    "# Cómo de buena es la predicción?\n",
    "from sklearn.metrics import mean_squared_error\n",
    "\n",
    "mean_squared_error(y, prediccion, squared=False)"
   ]
  },
  {
   "cell_type": "markdown",
   "metadata": {
    "id": "V66-xgckYMQs"
   },
   "source": [
    "# 05 EJERCICIO\n",
    "Entrena un árbol de regresión con todas las variables predictoras disponibles para predecir la variable 'Nota'.\n",
    "\n",
    "Prueba con profundidades de 3, 5, 20 y compara la calidad de cada predicción con la del árbol de las celdas anteriores.\n",
    "\n",
    "Visualiza los distintos árboles y reflexiona sobre cómo ha conseguido mejorar la capacidad predictiva a medida que aumenta la profundidad de la arquitectura."
   ]
  },
  {
   "cell_type": "code",
   "execution_count": null,
   "metadata": {
    "id": "70-b2gd0F_UE"
   },
   "outputs": [],
   "source": []
  }
 ],
 "metadata": {
  "kernelspec": {
   "display_name": "Python 3 (ipykernel)",
   "language": "python",
   "name": "python3"
  },
  "language_info": {
   "codemirror_mode": {
    "name": "ipython",
    "version": 3
   },
   "file_extension": ".py",
   "mimetype": "text/x-python",
   "name": "python",
   "nbconvert_exporter": "python",
   "pygments_lexer": "ipython3",
   "version": "3.10.11"
  }
 },
 "nbformat": 4,
 "nbformat_minor": 4
}
