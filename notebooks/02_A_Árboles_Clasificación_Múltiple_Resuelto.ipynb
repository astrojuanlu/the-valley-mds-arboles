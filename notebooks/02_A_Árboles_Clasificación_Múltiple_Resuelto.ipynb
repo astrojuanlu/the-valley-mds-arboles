{
 "cells": [
  {
   "cell_type": "markdown",
   "metadata": {
    "id": "R53FGLN8jo1L"
   },
   "source": [
    "# 01 INTRO: Árboles de Decisión\n",
    "Explicación de cómo construír árboles de decisión de **clasificación multiclase**.\n",
    "\n",
    "Notebook original por [Javier Blanco Cordero](https://www.linkedin.com/in/javier-blanco-cordero-71373656/)."
   ]
  },
  {
   "cell_type": "markdown",
   "metadata": {
    "id": "LSuEDXhPLi8u"
   },
   "source": [
    "## 0101 Qué es un árbol de decisión?\n",
    "Un tipo de algoritmo de aprendizaje supervisado que se basa en realizar particiones a partir de distintos niveles de las variables disponibles."
   ]
  },
  {
   "cell_type": "markdown",
   "metadata": {
    "id": "cnHRaho3rsXS"
   },
   "source": [
    "## 0102 Import\n",
    "Importamos todas las librerías necesarias para este análisis ([¿No sabes lo que es una librería de Python?](https://www.quora.com/What-is-a-Python-library-and-what-can-I-use-it-for)): pandas, numpy, seaborn, matplotlib."
   ]
  },
  {
   "cell_type": "code",
   "execution_count": null,
   "metadata": {
    "id": "4be6xiUqjPHI"
   },
   "outputs": [],
   "source": [
    "import pandas as pd\n",
    "import numpy as np\n",
    "import matplotlib.pyplot as plt\n",
    "import seaborn as sns"
   ]
  },
  {
   "cell_type": "markdown",
   "metadata": {
    "id": "AblkT14d4Gvt"
   },
   "source": [
    "## 0103 Carga el dataset: salud del feto\n",
    "Para probar a hacer árboles de decisión de clasificación multiclas utilizaremos un dataset sobre el estado de salud de un feto que he encontrado en Kaggle ([aquí](https://www.kaggle.com/andrewmvd/fetal-health-classification)).\n",
    "\n",
    "Podéis encontrar el archivo listo para importar en mi github: 'https://raw.githubusercontent.com/astrojuanlu/the-valley-mds-arboles/main/data/fetal_health.csv'.\n",
    "\n",
    "Importa este dataset en un dataframe llamado **df**."
   ]
  },
  {
   "cell_type": "code",
   "execution_count": null,
   "metadata": {
    "id": "GMZACcIXOclu"
   },
   "outputs": [],
   "source": [
    "# Url archivo raw\n",
    "url = (\n",
    "    \"https://raw.githubusercontent.com/astrojuanlu/the-valley-mds-arboles/main/data/fetal_health.csv\"\n",
    ")\n",
    "\n",
    "# Importa csv\n",
    "df = pd.read_csv(url)\n",
    "\n",
    "# Visualización primeras filas\n",
    "df.head()"
   ]
  },
  {
   "cell_type": "markdown",
   "metadata": {
    "id": "KBOQJ0AjdYrM"
   },
   "source": [
    "# 02 EDA\n",
    "Realizaremos un pequeño análisis exploratorio visual para familiarizarnos con el dataset."
   ]
  },
  {
   "cell_type": "code",
   "execution_count": null,
   "metadata": {
    "id": "qGrwhGyaj0-a"
   },
   "outputs": [],
   "source": [
    "df.info()"
   ]
  },
  {
   "cell_type": "code",
   "execution_count": null,
   "metadata": {
    "id": "8LoZpl8rjWEX"
   },
   "outputs": [],
   "source": [
    "df.describe()"
   ]
  },
  {
   "cell_type": "code",
   "execution_count": null,
   "metadata": {
    "id": "YUz-qSwBjaEW"
   },
   "outputs": [],
   "source": [
    "# Visualización coeficientes Pearson\n",
    "plt.figure(figsize=(12, 9))\n",
    "sns.heatmap(np.round(df.corr(), 2), vmin=-1, vmax=1, annot=True, cmap=\"coolwarm\")\n",
    "plt.show()"
   ]
  },
  {
   "cell_type": "markdown",
   "metadata": {
    "id": "lcnJKyElO8FU"
   },
   "source": [
    "# 03 Construcción árbol de decisión a mano\n",
    "Nunca lo haremos en la vida real, pero para afianzar el entendimiento de este tipo de algoritmos, vamos a reproducir el proceso de entrenamiento a mano."
   ]
  },
  {
   "cell_type": "markdown",
   "metadata": {
    "id": "BBXHQSiBCzgT"
   },
   "source": [
    "## 0301 DataFrame\n",
    "Para simplificar, haremos esto con un dataframe consistente solo en las columnas ['baseline value', 'accelerations', 'fetal_movement', 'fetal_health'] renombradas como ['Base', 'Acc', 'Mov', 'Salud Feto']."
   ]
  },
  {
   "cell_type": "code",
   "execution_count": null,
   "metadata": {
    "id": "L3SmZ9EyD8m8"
   },
   "outputs": [],
   "source": [
    "df.columns"
   ]
  },
  {
   "cell_type": "code",
   "execution_count": null,
   "metadata": {
    "id": "X-DsmAVtDHJH"
   },
   "outputs": [],
   "source": [
    "df_resumen = df[[\"baseline value\", \"accelerations\", \"fetal_movement\", \"fetal_health\"]]\n",
    "df_resumen.columns = [\"Base\", \"Acc\", \"Mov\", \"Salud Feto\"]\n",
    "df_resumen.head(7)"
   ]
  },
  {
   "cell_type": "markdown",
   "metadata": {
    "id": "7TX8LhTlWZC7"
   },
   "source": [
    "## 0301 Seleccionamos el nodo raíz\n",
    "Para seleccionar el nodo raíz generaremos árboles muy sencillos, de solo 3 nodos (una sola partición)."
   ]
  },
  {
   "cell_type": "markdown",
   "metadata": {
    "id": "EE9K9D7kM9Ru"
   },
   "source": [
    "### 030101 Variable categórica\n",
    "En este dataset resumen no tenemos una variable categórica binaria, pero generamos una a partir de una partición sobre una variable continua (por ejemplo Base > 132).\n",
    "\n",
    "A partir de esa nueva variable categórica binaria probamos a generar una partición."
   ]
  },
  {
   "cell_type": "code",
   "execution_count": null,
   "metadata": {
    "id": "-kyz6cu_ZOSs"
   },
   "outputs": [],
   "source": [
    "df_resumen_i = df_resumen.copy(deep=True)\n",
    "filtro_i = df_resumen_i[\"Base\"] > 132\n",
    "df_resumen_i[\"base > 132\"] = filtro_i.astype(int)\n",
    "df_resumen_i.head()"
   ]
  },
  {
   "cell_type": "code",
   "execution_count": null,
   "metadata": {
    "id": "IsFqrhz9xAYI"
   },
   "outputs": [],
   "source": [
    "# Podemos hacer la partición Anemia = 1 y Anemia = 0 con un groupby\n",
    "df_i = (\n",
    "    df_resumen_i.groupby([\"base > 132\", \"Salud Feto\"])[\"Base\"]\n",
    "    .agg([\"count\"])\n",
    "    .reset_index()\n",
    ")\n",
    "df_i"
   ]
  },
  {
   "cell_type": "code",
   "execution_count": null,
   "metadata": {
    "id": "fZBfJw78E0ZD"
   },
   "outputs": [],
   "source": [
    "def particion_categorica(df, target, var_discreta):\n",
    "    \"\"\"\n",
    "    Genera un dataframe con información sobre la partición utilizando la variable\n",
    "    discreta binaria aportada.\n",
    "    \"\"\"\n",
    "    df_i = (\n",
    "        df.groupby([var_discreta, target])[df.columns[0]].agg([\"count\"]).reset_index()\n",
    "    )\n",
    "\n",
    "    return df_i.sort_values(var_discreta, ascending=True).reset_index(drop=True)"
   ]
  },
  {
   "cell_type": "markdown",
   "metadata": {
    "id": "dlRcuKtvwD9O"
   },
   "source": [
    "### 030102 Variable Continua\n",
    "Las variables continuas pueden dar lugar a diversas particiones. Veamos la variable 'Base' como ejemplo."
   ]
  },
  {
   "cell_type": "code",
   "execution_count": null,
   "metadata": {
    "id": "M0V5r52h5tYj"
   },
   "outputs": [],
   "source": [
    "def particiones_continuas(df, target, var_continua):\n",
    "    \"\"\"\n",
    "    Muestra una serie dataframes con información sobre las distintas particiones\n",
    "    posibles utilizando la variable continua aportada.\n",
    "    \"\"\"\n",
    "    valores_unicos_ordenados = df[var_continua].sort_values().unique()\n",
    "    valores_particiones = (\n",
    "        valores_unicos_ordenados[:-1] + valores_unicos_ordenados[1:]\n",
    "    ) / 2\n",
    "\n",
    "    for valor in valores_particiones:\n",
    "        df_i = df.copy(deep=True)\n",
    "        filtro_i = df_i[var_continua] > valor\n",
    "        df_i[str(var_continua) + \" > \" + str(valor)] = filtro_i.astype(int)\n",
    "        df_i = particion_categorica(\n",
    "            df_i, target, str(var_continua) + \" > \" + str(valor)\n",
    "        )\n",
    "        display(df_i)"
   ]
  },
  {
   "cell_type": "code",
   "execution_count": null,
   "metadata": {
    "id": "okLIc7df57Qi"
   },
   "outputs": [],
   "source": [
    "particiones_continuas(df_resumen, \"Salud Feto\", \"Base\")"
   ]
  },
  {
   "cell_type": "markdown",
   "metadata": {
    "id": "TL2RbI9Qj529"
   },
   "source": [
    "### 030103 Impureza de Gini\n",
    "Calculamos la impureza de Gini de cada una de las particiones."
   ]
  },
  {
   "cell_type": "code",
   "execution_count": null,
   "metadata": {
    "id": "ux4INX9O6YwT"
   },
   "outputs": [],
   "source": [
    "df_i"
   ]
  },
  {
   "cell_type": "code",
   "execution_count": null,
   "metadata": {
    "id": "ReuOc9GwkL0s"
   },
   "outputs": [],
   "source": [
    "def gini(df_i):\n",
    "    \"\"\"\n",
    "    Calcula el Gini para cada nodo el ponderado de la decisión.\n",
    "    \"\"\"\n",
    "    for nodo in [0, 1]:\n",
    "        gini = 1\n",
    "        filtro_condicion = df_i[df_i.columns[0]] == nodo\n",
    "        for clase in df_i.loc[filtro_condicion, df_i.columns[1]]:\n",
    "            conteo_i = int(\n",
    "                df_i.loc[\n",
    "                    ((filtro_condicion) & (df_i[df_i.columns[1]] == clase)), \"count\"\n",
    "                ]\n",
    "            )\n",
    "            prob_i = conteo_i / df_i.loc[filtro_condicion, \"count\"].sum()\n",
    "            gini = gini - prob_i**2\n",
    "\n",
    "        df_i.loc[filtro_condicion, \"Gini\"] = gini\n",
    "\n",
    "    df_i_group = (\n",
    "        df_i.groupby([df_i.columns[0], \"Gini\"])[\"count\"].agg(\"sum\").reset_index()\n",
    "    )\n",
    "    gini_pond = (\n",
    "        df_i_group[\"count\"][0] * df_i_group[\"Gini\"][0]\n",
    "        + df_i_group[\"count\"][1] * df_i_group[\"Gini\"][1]\n",
    "    ) / (df_i_group[\"count\"].sum())\n",
    "\n",
    "    df_i[\"Gini Media Pond\"] = gini_pond\n",
    "    return df_i"
   ]
  },
  {
   "cell_type": "code",
   "execution_count": null,
   "metadata": {
    "id": "SwCnVBZJkcLn"
   },
   "outputs": [],
   "source": [
    "gini(df_i)"
   ]
  },
  {
   "cell_type": "code",
   "execution_count": null,
   "metadata": {
    "id": "_03aMUMNXRuf"
   },
   "outputs": [],
   "source": [
    "def particion_categorica(df, target, var_discreta):\n",
    "    \"\"\"\n",
    "    Genera un dataframe con información sobre la partición utilizando la variable\n",
    "    discreta binaria aportada.\n",
    "    \"\"\"\n",
    "    df_i = (\n",
    "        df.groupby([var_discreta, target])[df_resumen_i.columns[0]]\n",
    "        .agg([\"count\"])\n",
    "        .reset_index()\n",
    "    )\n",
    "    df_i = df_i.sort_values(var_discreta, ascending=True).reset_index(drop=True)\n",
    "    return gini(df_i)"
   ]
  },
  {
   "cell_type": "markdown",
   "metadata": {
    "id": "Yr0XMPnaCaRN"
   },
   "source": [
    "### 030104 Cuál es la mejor partición?"
   ]
  },
  {
   "cell_type": "code",
   "execution_count": null,
   "metadata": {
    "id": "qxM8qZIFk7E-"
   },
   "outputs": [],
   "source": [
    "def mejor_particion_continua(df, target, var_continua):\n",
    "    \"\"\"\n",
    "    Devuelve un dataframe con información sobre la partición ópitma de entre las\n",
    "    posibles utilizando la variable continua aportada.\n",
    "    \"\"\"\n",
    "    valores_unicos_ordenados = df[var_continua].sort_values().unique()\n",
    "    valores_particiones = (\n",
    "        valores_unicos_ordenados[:-1] + valores_unicos_ordenados[1:]\n",
    "    ) / 2\n",
    "    particion_optima = []\n",
    "\n",
    "    for i, valor in enumerate(valores_particiones):\n",
    "        df_i = df.copy(deep=True)\n",
    "        filtro_i = df_i[var_continua] > valor\n",
    "        df_i[str(var_continua) + \" > \" + str(valor)] = filtro_i.astype(int)\n",
    "        df_i = particion_categorica(\n",
    "            df_i, target, str(var_continua) + \" > \" + str(valor)\n",
    "        )\n",
    "\n",
    "        if i == 0:\n",
    "            particion_optima = df_i\n",
    "        else:\n",
    "            if df_i[\"Gini Media Pond\"][0] < particion_optima[\"Gini Media Pond\"][0]:\n",
    "                particion_optima = df_i\n",
    "\n",
    "    return particion_optima"
   ]
  },
  {
   "cell_type": "code",
   "execution_count": null,
   "metadata": {
    "id": "svk6dvlGlWus"
   },
   "outputs": [],
   "source": [
    "mejor_particion_continua(df_resumen, \"Salud Feto\", \"Base\")"
   ]
  },
  {
   "cell_type": "code",
   "execution_count": null,
   "metadata": {
    "id": "i0b3am-e_p6K"
   },
   "outputs": [],
   "source": [
    "mejor_particion_continua(df_resumen, \"Salud Feto\", \"Acc\")"
   ]
  },
  {
   "cell_type": "code",
   "execution_count": null,
   "metadata": {
    "id": "Wt9d2l3Vm3VK"
   },
   "outputs": [],
   "source": [
    "mejor_particion_continua(df_resumen, \"Salud Feto\", \"Mov\")"
   ]
  },
  {
   "cell_type": "code",
   "execution_count": null,
   "metadata": {
    "id": "LZunZWMpGhg6"
   },
   "outputs": [],
   "source": [
    "def seleccion_particion(df, target, lista_vars_continuas, lista_vars_binarias):\n",
    "    particion_optima = []\n",
    "\n",
    "    for i, var in enumerate(lista_vars_continuas + lista_vars_binarias):\n",
    "        if var in lista_vars_continuas:\n",
    "            df_i = mejor_particion_continua(df, target, var)\n",
    "        if var in lista_vars_binarias:\n",
    "            df_i = particion_categorica(df, target, var)\n",
    "\n",
    "        if i == 0:\n",
    "            particion_optima = df_i\n",
    "        else:\n",
    "            if df_i[\"Gini Media Pond\"][0] < particion_optima[\"Gini Media Pond\"][0]:\n",
    "                particion_optima = df_i\n",
    "\n",
    "    return particion_optima"
   ]
  },
  {
   "cell_type": "code",
   "execution_count": null,
   "metadata": {
    "id": "8_uKIpZEHlX7"
   },
   "outputs": [],
   "source": [
    "seleccion_particion(df_resumen, \"Salud Feto\", [\"Base\", \"Acc\", \"Mov\"], [])"
   ]
  },
  {
   "cell_type": "markdown",
   "metadata": {
    "id": "mjWxs5R_FxEH"
   },
   "source": [
    "## 0302 Construímos las ramas\n",
    "Vamos a contruír el resto del árbol sin repetir variables."
   ]
  },
  {
   "cell_type": "code",
   "execution_count": null,
   "metadata": {
    "id": "OEo0D52qCmbs"
   },
   "outputs": [],
   "source": [
    "# Realizamos la partición\n",
    "df_resumen_1 = df_resumen[df_resumen[\"Acc\"] > 0.0005]\n",
    "df_resumen_2 = df_resumen[df_resumen[\"Base\"] < 0.0005]"
   ]
  },
  {
   "cell_type": "code",
   "execution_count": null,
   "metadata": {
    "id": "rSpVB-dVBX5O"
   },
   "outputs": [],
   "source": [
    "df_resumen.columns"
   ]
  },
  {
   "cell_type": "markdown",
   "metadata": {
    "id": "W7WioeqWMbbF"
   },
   "source": [
    "### 030201 Rama Izquierda (1)"
   ]
  },
  {
   "cell_type": "code",
   "execution_count": null,
   "metadata": {
    "id": "KJnyLZRACmfc"
   },
   "outputs": [],
   "source": [
    "# Siguiente partición\n",
    "seleccion_particion(df_resumen_1, \"Salud Feto\", [\"Base\", \"Acc\", \"Mov\"], [])"
   ]
  },
  {
   "cell_type": "code",
   "execution_count": null,
   "metadata": {
    "id": "DUa4pGiZI_AF"
   },
   "outputs": [],
   "source": [
    "# Realizamos la siguiente partición\n",
    "df_resumen_1_1 = df_resumen[\n",
    "    ((df_resumen[\"Acc\"] > 0.0005) & (df_resumen[\"Acc\"] > 0.0025))\n",
    "]\n",
    "df_resumen_1_2 = df_resumen[\n",
    "    ((df_resumen[\"Acc\"] > 0.0005) & (df_resumen[\"Acc\"] < 0.0025))\n",
    "]"
   ]
  },
  {
   "cell_type": "code",
   "execution_count": null,
   "metadata": {
    "id": "7AkXkkPKJPmz"
   },
   "outputs": [],
   "source": [
    "# Siguiente partición\n",
    "seleccion_particion(df_resumen_1_1, \"Salud Feto\", [\"Base\", \"Acc\", \"Mov\"], [])"
   ]
  },
  {
   "cell_type": "code",
   "execution_count": null,
   "metadata": {
    "id": "pI2rXQiDJT6H"
   },
   "outputs": [],
   "source": [
    "# Siguiente partición\n",
    "seleccion_particion(df_resumen_1_2, \"Salud Feto\", [\"Base\", \"Acc\", \"Mov\"], [])"
   ]
  },
  {
   "cell_type": "markdown",
   "metadata": {
    "id": "sRO6wMepPOJj"
   },
   "source": [
    "# 04 Construcción árbol de decisión con scikit learn\n",
    "Ahora de manera automática, utilizando la librería [scikit learn](https://scikit-learn.org/stable/), la libería básica de referencia para machine learning."
   ]
  },
  {
   "cell_type": "markdown",
   "metadata": {
    "id": "SXSNgNJrsdva"
   },
   "source": [
    "## 0401 Importamos las librerías"
   ]
  },
  {
   "cell_type": "code",
   "execution_count": null,
   "metadata": {
    "id": "dpc44ulgPFkN"
   },
   "outputs": [],
   "source": [
    "# Nos importamos las funciones de árboles de scikit learn\n",
    "from sklearn import tree"
   ]
  },
  {
   "cell_type": "markdown",
   "metadata": {
    "id": "H9WKeVmAv89P"
   },
   "source": [
    "## 0402 Inicializamos el árbol\n",
    "Definiendo las características que tendrá.\n",
    "\n",
    "https://scikit-learn.org/stable/modules/generated/sklearn.tree.DecisionTreeClassifier.html#sklearn.tree.DecisionTreeClassifier"
   ]
  },
  {
   "cell_type": "code",
   "execution_count": null,
   "metadata": {
    "id": "c_yzGJ-UP6wq"
   },
   "outputs": [],
   "source": [
    "# Inicializamos un árbol. Por ahora está vacío.\n",
    "# Solo definimos cómo queremos que sea en cuanto a su estructura y condiciones de entrenamiento\n",
    "arbol = tree.DecisionTreeClassifier(max_depth=3)\n",
    "arbol"
   ]
  },
  {
   "cell_type": "markdown",
   "metadata": {
    "id": "1_Q84Q2GJjDC"
   },
   "source": [
    "## 0403 Entrenamos el modelo\n",
    "Una vez inicializado y definido el árbol, el método .[fit()](https://scikit-learn.org/stable/modules/generated/sklearn.tree.DecisionTreeClassifier.html#sklearn.tree.DecisionTreeClassifier.fit) realiza el proceso de particionado recursivo que hemos hecho nosotros antes a mano."
   ]
  },
  {
   "cell_type": "code",
   "execution_count": null,
   "metadata": {
    "id": "QzlRebscRxCe"
   },
   "outputs": [],
   "source": [
    "# Entrenamos el árbol inicializado a partir de los datos que le pasemos con .fit()\n",
    "arbol = arbol.fit(\n",
    "    X=df_resumen[[\"Base\", \"Acc\", \"Mov\"]],  # vars descriptivas\n",
    "    y=df_resumen[[\"Salud Feto\"]],\n",
    ")  # var objetico\n",
    "arbol"
   ]
  },
  {
   "cell_type": "markdown",
   "metadata": {
    "id": "akjuRe9yLQ8R"
   },
   "source": [
    "##0404 Visualizamos el modelo\n",
    "Una vez entrenado el modelo, podemos visualizarlo."
   ]
  },
  {
   "cell_type": "code",
   "execution_count": null,
   "metadata": {
    "id": "23xmBvxkRFsq"
   },
   "outputs": [],
   "source": [
    "# Con el método export_text en un print()\n",
    "esquema_print = tree.export_text(arbol, feature_names=[\"Base\", \"Acc\", \"Mov\"])\n",
    "print(esquema_print)"
   ]
  },
  {
   "cell_type": "code",
   "execution_count": null,
   "metadata": {
    "id": "mcJgYPAMQSNG"
   },
   "outputs": [],
   "source": [
    "# O con la librería graphviz\n",
    "import graphviz\n",
    "\n",
    "# Export_graphviz\n",
    "dot_data = tree.export_graphviz(\n",
    "    arbol, out_file=None, feature_names=[\"Base\", \"Acc\", \"Mov\"]\n",
    ")\n",
    "graph = graphviz.Source(dot_data)\n",
    "graph"
   ]
  },
  {
   "cell_type": "markdown",
   "metadata": {
    "id": "WYs1eiOgMKWU"
   },
   "source": [
    "## 0405 Realizamos una predicción\n",
    "Una vez el modelo está entrenado (definido) podemos pasarle datos para obtener las prediciones correspondientes de la variable objetivo.\n",
    "\n",
    "Para esto utilizamos el método .[predict()](https://scikit-learn.org/stable/modules/generated/sklearn.tree.DecisionTreeClassifier.html#sklearn.tree.DecisionTreeClassifier.predict)."
   ]
  },
  {
   "cell_type": "code",
   "execution_count": null,
   "metadata": {
    "id": "acmqdf6ByLdw"
   },
   "outputs": [],
   "source": [
    "# Predicción\n",
    "prediccion = arbol.predict(df_resumen[[\"Base\", \"Acc\", \"Mov\"]])\n",
    "prediccion"
   ]
  },
  {
   "cell_type": "code",
   "execution_count": null,
   "metadata": {
    "id": "3cMYHbiDyRPW"
   },
   "outputs": [],
   "source": [
    "# Cómo de buena es la predicción?\n",
    "from sklearn.metrics import accuracy_score\n",
    "\n",
    "accuracy_score(df_resumen[\"Salud Feto\"], prediccion)"
   ]
  },
  {
   "cell_type": "markdown",
   "metadata": {
    "id": "OOwjE0vpVDAV"
   },
   "source": [
    "# 05 EJERCICIO\n",
    "Entrena un árbol de decisión con todas las variables del set de datos de salud del feto, y evalua si la predicción es mejor o peor que utilizando tres variables (que es lo que acabamos de hacer en la sección anterior).\n",
    "\n",
    "Hazlo primero manteniendo una profundidad de 3 como en el ejemplo anterior y luego prueba también con 5 y 20."
   ]
  },
  {
   "cell_type": "code",
   "execution_count": null,
   "metadata": {
    "id": "IA-sUogXVhQo"
   },
   "outputs": [],
   "source": [
    "df.head(2)"
   ]
  },
  {
   "cell_type": "code",
   "execution_count": null,
   "metadata": {
    "id": "IBrIrI1FmzuS"
   },
   "outputs": [],
   "source": [
    "df.columns"
   ]
  },
  {
   "cell_type": "code",
   "execution_count": null,
   "metadata": {
    "id": "ayeaAVKLVBzE"
   },
   "outputs": [],
   "source": [
    "# Inicializamos un árbol. Por ahora está vacío. Solo definimos cómo queremos que sea.\n",
    "arbol_3 = tree.DecisionTreeClassifier(max_depth=3)\n",
    "arbol_5 = tree.DecisionTreeClassifier(max_depth=5)\n",
    "arbol_20 = tree.DecisionTreeClassifier(max_depth=20)"
   ]
  },
  {
   "cell_type": "code",
   "execution_count": null,
   "metadata": {
    "id": "JtLHTyK163Aw"
   },
   "outputs": [],
   "source": [
    "# Matrices de datos\n",
    "cols = [\n",
    "    \"baseline value\",\n",
    "    \"accelerations\",\n",
    "    \"fetal_movement\",\n",
    "    \"uterine_contractions\",\n",
    "    \"light_decelerations\",\n",
    "    \"severe_decelerations\",\n",
    "    \"prolongued_decelerations\",\n",
    "    \"abnormal_short_term_variability\",\n",
    "    \"mean_value_of_short_term_variability\",\n",
    "    \"percentage_of_time_with_abnormal_long_term_variability\",\n",
    "    \"mean_value_of_long_term_variability\",\n",
    "    \"histogram_width\",\n",
    "    \"histogram_min\",\n",
    "    \"histogram_max\",\n",
    "    \"histogram_number_of_peaks\",\n",
    "    \"histogram_number_of_zeroes\",\n",
    "    \"histogram_mode\",\n",
    "    \"histogram_mean\",\n",
    "    \"histogram_median\",\n",
    "    \"histogram_variance\",\n",
    "    \"histogram_tendency\",\n",
    "]\n",
    "X = df[cols]\n",
    "y = df[\"fetal_health\"]"
   ]
  },
  {
   "cell_type": "code",
   "execution_count": null,
   "metadata": {
    "id": "s9yle38RS-DP"
   },
   "outputs": [],
   "source": [
    "# Entrenamos los árboles inicializados a partir de los datos que le pasemos con .fit()\n",
    "arbol_3 = arbol_3.fit(X=X, y=y)\n",
    "arbol_5 = arbol_5.fit(X=X, y=y)\n",
    "arbol_20 = arbol_20.fit(X=X, y=y)"
   ]
  },
  {
   "cell_type": "code",
   "execution_count": null,
   "metadata": {
    "id": "-w4XaJn9VqRY"
   },
   "outputs": [],
   "source": [
    "# Podemos visualizar la estructura\n",
    "print(tree.export_text(arbol_3, feature_names=list(X.columns)))"
   ]
  },
  {
   "cell_type": "code",
   "execution_count": null,
   "metadata": {
    "id": "gBJ5sZH_nZFK"
   },
   "outputs": [],
   "source": [
    "# Podemos visualizar la estructura\n",
    "print(tree.export_text(arbol_5, feature_names=list(X.columns)))"
   ]
  },
  {
   "cell_type": "code",
   "execution_count": null,
   "metadata": {
    "id": "dZc4ejfOV7oX"
   },
   "outputs": [],
   "source": [
    "import graphviz\n",
    "\n",
    "dot_data = tree.export_graphviz(arbol_5, out_file=None, feature_names=list(X.columns))\n",
    "graph = graphviz.Source(dot_data)\n",
    "graph"
   ]
  },
  {
   "cell_type": "code",
   "execution_count": null,
   "metadata": {
    "id": "N-0NlQ6xV-b4"
   },
   "outputs": [],
   "source": [
    "# Predicción\n",
    "prediccion_3 = arbol_3.predict(X)\n",
    "prediccion_5 = arbol_5.predict(X)\n",
    "prediccion_20 = arbol_20.predict(X)"
   ]
  },
  {
   "cell_type": "code",
   "execution_count": null,
   "metadata": {
    "id": "MRlWh4DzXdnD"
   },
   "outputs": [],
   "source": [
    "# Precisión de la predicción\n",
    "print(\"Precisión de arbol depth=3 es de \", accuracy_score(y, prediccion_3))\n",
    "print(\"Precisión de arbol depth=5 es de \", accuracy_score(y, prediccion_5))\n",
    "print(\"Precisión de arbol depth=20 es de \", accuracy_score(y, prediccion_20))"
   ]
  }
 ],
 "metadata": {
  "kernelspec": {
   "display_name": "Python 3 (ipykernel)",
   "language": "python",
   "name": "python3"
  },
  "language_info": {
   "codemirror_mode": {
    "name": "ipython",
    "version": 3
   },
   "file_extension": ".py",
   "mimetype": "text/x-python",
   "name": "python",
   "nbconvert_exporter": "python",
   "pygments_lexer": "ipython3",
   "version": "3.10.11"
  }
 },
 "nbformat": 4,
 "nbformat_minor": 4
}
