{
 "cells": [
  {
   "cell_type": "markdown",
   "metadata": {
    "id": "R53FGLN8jo1L"
   },
   "source": [
    "# 01 INTRO: Árboles de Decisión\n",
    "\n",
    "Explicación de cómo construir árboles de decisión.\n",
    "\n",
    "Notebook original por [Javier Blanco Cordero](https://www.linkedin.com/in/javier-blanco-cordero-71373656/)."
   ]
  },
  {
   "cell_type": "markdown",
   "metadata": {
    "id": "LSuEDXhPLi8u"
   },
   "source": [
    "## 0101 Qué es un árbol de decisión?\n",
    "Un tipo de algoritmo de aprendizaje supervisado que se basa en realizar particiones a partir de distintos niveles de las variables disponibles."
   ]
  },
  {
   "cell_type": "markdown",
   "metadata": {
    "id": "cnHRaho3rsXS"
   },
   "source": [
    "## 0102 Import\n",
    "Importamos todas las librerías necesarias para este análisis ([¿No sabes lo que es una librería de Python?](https://www.quora.com/What-is-a-Python-library-and-what-can-I-use-it-for)): pandas, numpy, seaborn, matplotlib."
   ]
  },
  {
   "cell_type": "code",
   "execution_count": null,
   "metadata": {
    "id": "4be6xiUqjPHI"
   },
   "outputs": [],
   "source": [
    "import pandas as pd\n",
    "import numpy as np\n",
    "import matplotlib.pyplot as plt\n",
    "import seaborn as sns"
   ]
  },
  {
   "cell_type": "markdown",
   "metadata": {
    "id": "AblkT14d4Gvt"
   },
   "source": [
    "## 0103 Carga el dataset de accidentes cardiacos\n",
    "Para probar a hacer árboles de decisión utilizaremos un dataset sobre accidentes coronarios que he encontrado en Kaggle ([aquí](https://www.kaggle.com/andrewmvd/heart-failure-clinical-data)).\n",
    "\n",
    "Podéis encontrar el archivo listo para importar en mi github: 'https://raw.githubusercontent.com/astrojuanlu/the-valley-mds-arboles/main/data/heart_failure.csv'.\n",
    "\n",
    "Importa este dataset en un dataframe llamado **df**."
   ]
  },
  {
   "cell_type": "code",
   "execution_count": null,
   "metadata": {
    "id": "GMZACcIXOclu"
   },
   "outputs": [],
   "source": [
    "# Url archivo raw\n",
    "url = (\n",
    "    \"https://raw.githubusercontent.com/astrojuanlu/the-valley-mds-arboles/main/data/heart_failure.csv\"\n",
    ")\n",
    "\n",
    "# Importa csv\n",
    "df = pd.read_csv(url)\n",
    "\n",
    "# Visualización primeras filas\n",
    "df.head()"
   ]
  },
  {
   "cell_type": "markdown",
   "metadata": {
    "id": "KBOQJ0AjdYrM"
   },
   "source": [
    "# 02 EDA\n",
    "Realizaremos un pequeño análisis exploratorio visual para familiarizarnos con el dataset."
   ]
  },
  {
   "cell_type": "code",
   "execution_count": null,
   "metadata": {
    "id": "qGrwhGyaj0-a"
   },
   "outputs": [],
   "source": [
    "df.info()"
   ]
  },
  {
   "cell_type": "code",
   "execution_count": null,
   "metadata": {
    "id": "8LoZpl8rjWEX"
   },
   "outputs": [],
   "source": [
    "df.describe()"
   ]
  },
  {
   "cell_type": "code",
   "execution_count": null,
   "metadata": {
    "id": "YUz-qSwBjaEW"
   },
   "outputs": [],
   "source": [
    "# Visualización coeficientes Pearson\n",
    "fix, ax = plt.subplots(figsize=(8, 7))\n",
    "ax = sns.heatmap(np.round(df.corr(), 2), vmin=-1, vmax=1, annot=True, cmap=\"coolwarm\", ax=ax)"
   ]
  },
  {
   "cell_type": "markdown",
   "metadata": {
    "id": "lcnJKyElO8FU"
   },
   "source": [
    "# 03 Construcción árbol de decisión a mano\n",
    "Nunca lo haremos en la vida real, pero para afianzar el entendimiento de este tipo de algoritmos, vamos a reproducir el proceso de entrenamiento a mano."
   ]
  },
  {
   "cell_type": "markdown",
   "metadata": {
    "id": "BBXHQSiBCzgT"
   },
   "source": [
    "## 0301 DataFrame\n",
    "Para simplificar, haremos esto con un dataframe consistente solo en las columnas ['age', 'anaemia', 'serum_creatinine', 'DEATH_EVENT'] renombradas como ['Edad', 'Anemia', 'Serum', 'Fallece']."
   ]
  },
  {
   "cell_type": "code",
   "execution_count": null,
   "metadata": {
    "id": "X-DsmAVtDHJH"
   },
   "outputs": [],
   "source": [
    "df_resumen = df[[\"age\", \"anaemia\", \"serum_creatinine\", \"DEATH_EVENT\"]]\n",
    "df_resumen.columns = [\"Edad\", \"Anemia\", \"Serum\", \"Fallece\"]"
   ]
  },
  {
   "cell_type": "code",
   "execution_count": null,
   "metadata": {
    "id": "X-DsmAVtDHJH"
   },
   "outputs": [],
   "source": [
    "df_resumen.sample(10).reset_index(drop=True)  # Visualizamos 10 registros aleatorios"
   ]
  },
  {
   "cell_type": "markdown",
   "metadata": {
    "id": "7TX8LhTlWZC7"
   },
   "source": [
    "## 0301 Seleccionamos el nodo raíz\n",
    "Para seleccionar el nodo raíz generaremos árboles muy sencillos, de solo 3 nodos (una sola partición)."
   ]
  },
  {
   "cell_type": "markdown",
   "metadata": {
    "id": "EE9K9D7kM9Ru"
   },
   "source": [
    "### 030101 Variable categórica\n",
    "Probamos a generar un árbol de sólo dos particiones."
   ]
  },
  {
   "cell_type": "code",
   "execution_count": null,
   "metadata": {
    "id": "IsFqrhz9xAYI"
   },
   "outputs": [],
   "source": [
    "# Podemos hacer la partición Anemia = 1 y Anemia = 0 con un groupby\n",
    "df_resumen.groupby(\"Anemia\")[\"Fallece\"].agg([\"count\", \"sum\"])"
   ]
  },
  {
   "cell_type": "code",
   "execution_count": null,
   "metadata": {
    "id": "95bM_TGGxEoh"
   },
   "outputs": [],
   "source": [
    "# Guardamos el resultado y le damos nombres más explicativos a las columnas\n",
    "df_i = df_resumen.groupby(\"Anemia\")[\"Fallece\"].agg([\"count\", \"sum\"]).reset_index()\n",
    "df_i.columns = [\"Anemia\", \"Total\", \"Fallece = 1\"]\n",
    "df_i"
   ]
  },
  {
   "cell_type": "code",
   "execution_count": null,
   "metadata": {
    "id": "Nsu6uJHwzMun"
   },
   "outputs": [],
   "source": [
    "# Añadimos más información útil\n",
    "df_i[\"Fallece = 0\"] = df_i[\"Total\"] - df_i[\"Fallece = 1\"]\n",
    "df_i[\"Mean\"] = np.round(df_i[\"Fallece = 1\"] / df_i[\"Total\"], 4)\n",
    "df_i"
   ]
  },
  {
   "cell_type": "markdown",
   "metadata": {
    "id": "YWcwJXfzx_1K"
   },
   "source": [
    "#### EJERCICIO\n",
    "Crea la función **particion_categorica** que, dado un dataframe con datos, una variable discreta binaria (como 'Anemia') y una variable target, devuelva un dataframe con información de la partición similar a la que acabamos de generar en la celda anterior."
   ]
  },
  {
   "cell_type": "code",
   "execution_count": null,
   "metadata": {
    "id": "yWrJvGWNx9La"
   },
   "outputs": [],
   "source": [
    "def particion_categorica(df, target, var_discreta):\n",
    "    \"\"\"\n",
    "    Genera un dataframe con información sobre la partición utilizando la variable\n",
    "    discreta binaria aportada.\n",
    "    \"\"\"\n",
    "    df_i = df.groupby(...)\n",
    "    ...\n",
    "    ...\n",
    "    ...\n",
    "    return df_i"
   ]
  },
  {
   "cell_type": "code",
   "execution_count": null,
   "metadata": {
    "id": "WV-RlsbnM8p2"
   },
   "outputs": [],
   "source": [
    "# Prueba tu función\n",
    "df_i = particion_categorica(df_resumen, \"Fallece\", \"Anemia\")\n",
    "df_i"
   ]
  },
  {
   "cell_type": "markdown",
   "metadata": {
    "id": "dlRcuKtvwD9O"
   },
   "source": [
    "### 030102 Variable Continua\n",
    "Las variables continuas pueden dar lugar a diversas particiones. Veamos la variable 'Edad' como ejemplo."
   ]
  },
  {
   "cell_type": "code",
   "execution_count": null,
   "metadata": {
    "id": "cuAIVLIO0Q-Z"
   },
   "outputs": [],
   "source": [
    "# Cuantos valores distintos de edad hay?\n",
    "df_resumen[\"Edad\"].nunique()"
   ]
  },
  {
   "cell_type": "code",
   "execution_count": null,
   "metadata": {
    "id": "Tpu1D2W_0wTo"
   },
   "outputs": [],
   "source": [
    "# Valores distintos de edad en orden\n",
    "valores_edad_unicos_ordenados = df_resumen[\"Edad\"].sort_values().unique()\n",
    "valores_edad_unicos_ordenados"
   ]
  },
  {
   "cell_type": "code",
   "execution_count": null,
   "metadata": {
    "id": "Gu4i7kNn1geJ"
   },
   "outputs": [],
   "source": [
    "# Por tanto hay 46 particiones posibles, en torno a los valores:\n",
    "valores_particiones = (\n",
    "    valores_edad_unicos_ordenados[:-1] + valores_edad_unicos_ordenados[1:]\n",
    ") / 2\n",
    "valores_particiones"
   ]
  },
  {
   "cell_type": "code",
   "execution_count": null,
   "metadata": {
    "id": "Cx9vjrCK1usw"
   },
   "outputs": [],
   "source": [
    "# Ahora, podemos hacer un árbol para cada valor de partición.\n",
    "# Por ejemplo, para la partición 63.5\n",
    "df_resumen_i = df_resumen.copy()\n",
    "\n",
    "filtro_i = df_resumen_i[\"Edad\"] > 63.5\n",
    "df_resumen_i[\"Edad > 63.5\"] = filtro_i.astype(int)\n",
    "\n",
    "df_resumen_i.head()"
   ]
  },
  {
   "cell_type": "code",
   "execution_count": null,
   "metadata": {
    "id": "TM4-cUb53hGo"
   },
   "outputs": [],
   "source": [
    "# Ahora podemos generar la partición categórica sobre la oclumna Edad > 63.5\n",
    "particion_categorica(df_resumen_i, \"Fallece\", \"Edad > 63.5\")"
   ]
  },
  {
   "cell_type": "code",
   "execution_count": null,
   "metadata": {
    "id": "FAAY0f5SpB7s"
   },
   "outputs": [],
   "source": [
    "# Hagamos un loop que devuelva todas las particiones posibles\n",
    "for particion in valores_particiones:\n",
    "    df_resumen_i = df_resumen.copy()\n",
    "\n",
    "    filtro_i = df_resumen_i[\"Edad\"] > particion\n",
    "    df_resumen_i[\"Edad > \" + str(particion)] = filtro_i.astype(int)\n",
    "\n",
    "    df_i = particion_categorica(df_resumen_i, \"Fallece\", \"Edad > \" + str(particion))\n",
    "    display(df_i)"
   ]
  },
  {
   "cell_type": "markdown",
   "metadata": {
    "id": "qJlXHc8_4jhS"
   },
   "source": [
    "#### EJERCICIO\n",
    "Crea la función **particiones_continuas** que, dado un dataframe con datos, una variable continua (como 'Edad' o 'Serum') y una variable target, muestre una serie de dataframes con información para cada una de las particiones. (Devuelve un resultado similar al que acabamos de generar en la celda anterior)."
   ]
  },
  {
   "cell_type": "code",
   "execution_count": null,
   "metadata": {
    "id": "ukEeTvGEqKi7"
   },
   "outputs": [],
   "source": [
    "def particiones_continuas(df, target, var_continua):\n",
    "    \"\"\"\n",
    "    Muestra una serie dataframes con información sobre las distintas particiones\n",
    "    posibles utilizando la variable continua aportada.\n",
    "    \"\"\"\n",
    "    valores_unicos_ordenados = df[var_continua].sort_values().unique()\n",
    "    valores_particiones = ....\n",
    "    \n",
    "    for valor in valores_particiones:\n",
    "        ...\n",
    "        ...\n",
    "        ...\n",
    "        ...\n",
    "        display(df_i)"
   ]
  },
  {
   "cell_type": "code",
   "execution_count": null,
   "metadata": {
    "id": "d9Veosr7r1sl"
   },
   "outputs": [],
   "source": [
    "# Prueba tu función\n",
    "particiones_continuas(df_resumen, \"Fallece\", \"Edad\")"
   ]
  },
  {
   "cell_type": "code",
   "execution_count": null,
   "metadata": {
    "id": "9OksrKOGwQvO"
   },
   "outputs": [],
   "source": [
    "# Prueba tu función\n",
    "particiones_continuas(df_resumen, \"Fallece\", \"Serum\")"
   ]
  },
  {
   "cell_type": "markdown",
   "metadata": {
    "id": "TL2RbI9Qj529"
   },
   "source": [
    "### 030103 Impureza de Gini\n",
    "Calculamos la impureza de Gini de cada una de las particiones."
   ]
  },
  {
   "cell_type": "code",
   "execution_count": null,
   "metadata": {
    "id": "_03aMUMNXRuf"
   },
   "outputs": [],
   "source": [
    "# Generemos una función que añade la columna Gini\n",
    "def gini(df_i):\n",
    "    df_i[\"Gini\"] = 1 - df_i[\"Mean\"] ** 2 - (1 - df_i[\"Mean\"]) ** 2\n",
    "    df_i[\"Gini Media Pond\"] = np.round(\n",
    "        (df_i[\"Gini\"][0] * df_i[\"Total\"][0] + df_i[\"Gini\"][1] * df_i[\"Total\"][1])\n",
    "        / (df_i[\"Total\"][0] + df_i[\"Total\"][1]),\n",
    "        4,\n",
    "    )\n",
    "    return df_i"
   ]
  },
  {
   "cell_type": "code",
   "execution_count": null,
   "metadata": {
    "id": "3Jr0TOXr99su"
   },
   "outputs": [],
   "source": [
    "gini(df_i)"
   ]
  },
  {
   "cell_type": "markdown",
   "metadata": {
    "id": "Q8ikWtDi-TGJ"
   },
   "source": [
    "#### EJERCICIO\n",
    "Modifica la función particion_categorica para incorporar el Gini como medida de impureza al resultado."
   ]
  },
  {
   "cell_type": "code",
   "execution_count": null,
   "metadata": {
    "id": "6FXi71rjksOs"
   },
   "outputs": [],
   "source": [
    "def particion_categorica(df, target, var_discreta):\n",
    "    \"\"\"\n",
    "    Genera un dataframe con información sobre la partición utilizando la variable\n",
    "    discreta binaria aportada, incluyendo la medida de impureza con Gini.\n",
    "    \"\"\"\n",
    "    ...\n",
    "    ...\n",
    "    ...\n",
    "    ...\n",
    "    return ..."
   ]
  },
  {
   "cell_type": "code",
   "execution_count": null,
   "metadata": {
    "id": "63WQR20IBqLk"
   },
   "outputs": [],
   "source": [
    "# Prueba tu función\n",
    "df_i = particion_categorica(df_resumen, \"Fallece\", \"Anemia\")\n",
    "df_i"
   ]
  },
  {
   "cell_type": "markdown",
   "metadata": {
    "id": "IS2VfTOg_vq2"
   },
   "source": [
    "#### EJERCICIO\n",
    "Crea la función mejor_particion_continua que devuelve el árbol con la partición óptima (según el Gini) para una variable continua."
   ]
  },
  {
   "cell_type": "code",
   "execution_count": null,
   "metadata": {
    "id": "qxM8qZIFk7E-"
   },
   "outputs": [],
   "source": [
    "def mejor_particion_continua(df, target, var_continua):\n",
    "    \"\"\"\n",
    "    Devuelve un dataframe con información sobre la partición ópitma de entre las\n",
    "    posibles utilizando la variable continua aportada.\n",
    "    \"\"\"\n",
    "    valores_unicos_ordenados = df[var_continua].sort_values().unique()\n",
    "    valores_particiones = (\n",
    "        valores_unicos_ordenados[:-1] + valores_unicos_ordenados[1:]\n",
    "    ) / 2\n",
    "    particion_optima = []\n",
    "\n",
    "    for i, valor in enumerate(valores_particiones):\n",
    "        df_i = df.copy(deep=True)\n",
    "        filtro_i = df_i[var_continua] > valor\n",
    "        df_i[str(var_continua) + \" > \" + str(valor)] = filtro_i.astype(int)\n",
    "        df_i = particion_categorica(\n",
    "            df_i, \"Fallece\", str(var_continua) + \" > \" + str(valor)\n",
    "        )\n",
    "\n",
    "        ...\n",
    "        ...\n",
    "        ...\n",
    "        ...\n",
    "\n",
    "    return particion_optima"
   ]
  },
  {
   "cell_type": "code",
   "execution_count": null,
   "metadata": {
    "id": "svk6dvlGlWus"
   },
   "outputs": [],
   "source": [
    "# Prueba tu función\n",
    "mejor_particion_continua(df_resumen, \"Fallece\", \"Edad\")"
   ]
  },
  {
   "cell_type": "code",
   "execution_count": null,
   "metadata": {
    "id": "Wt9d2l3Vm3VK"
   },
   "outputs": [],
   "source": [
    "# Prueba tu función\n",
    "mejor_particion_continua(df_resumen, \"Fallece\", \"Serum\")"
   ]
  },
  {
   "cell_type": "markdown",
   "metadata": {
    "id": "Yr0XMPnaCaRN"
   },
   "source": [
    "### 030104 Cuál es la mejor partición?"
   ]
  },
  {
   "cell_type": "code",
   "execution_count": null,
   "metadata": {
    "id": "NM9zFkwUBAbU"
   },
   "outputs": [],
   "source": [
    "particion_categorica(df_resumen, \"Fallece\", \"Anemia\")"
   ]
  },
  {
   "cell_type": "code",
   "execution_count": null,
   "metadata": {
    "id": "o9Bkx8VmBAfE"
   },
   "outputs": [],
   "source": [
    "mejor_particion_continua(df_resumen, \"Fallece\", \"Edad\")"
   ]
  },
  {
   "cell_type": "code",
   "execution_count": null,
   "metadata": {
    "id": "OfRF3QfUBAiw"
   },
   "outputs": [],
   "source": [
    "mejor_particion_continua(df_resumen, \"Fallece\", \"Serum\")"
   ]
  },
  {
   "cell_type": "markdown",
   "metadata": {
    "id": "QoHsABZAGPBr"
   },
   "source": [
    "#### EJEMPLO\n",
    "Función que devuelve la mejor partición dados un dataframe, una lista de variables continuas y otra de variables discretas variables"
   ]
  },
  {
   "cell_type": "code",
   "execution_count": null,
   "metadata": {
    "id": "LZunZWMpGhg6"
   },
   "outputs": [],
   "source": [
    "def seleccion_particion(df, target, lista_vars_continuas, lista_vars_binarias):\n",
    "    particion_optima = []\n",
    "\n",
    "    for i, var in enumerate(lista_vars_continuas + lista_vars_binarias):\n",
    "        if var in lista_vars_continuas:\n",
    "            df_i = mejor_particion_continua(df, target, var)\n",
    "        if var in lista_vars_binarias:\n",
    "            df_i = particion_categorica(df, target, var)\n",
    "\n",
    "        if i == 0:\n",
    "            particion_optima = df_i\n",
    "        else:\n",
    "            if df_i[\"Gini Media Pond\"][0] < particion_optima[\"Gini Media Pond\"][0]:\n",
    "                particion_optima = df_i\n",
    "\n",
    "    return particion_optima"
   ]
  },
  {
   "cell_type": "code",
   "execution_count": null,
   "metadata": {
    "id": "8_uKIpZEHlX7"
   },
   "outputs": [],
   "source": [
    "seleccion_particion(df_resumen, \"Fallece\", [\"Edad\", \"Serum\"], [\"Anemia\"])"
   ]
  },
  {
   "cell_type": "markdown",
   "metadata": {
    "id": "mjWxs5R_FxEH"
   },
   "source": [
    "## 0302 Construímos las ramas\n",
    "Vamos a contruír el resto del árbol sin repetir variables."
   ]
  },
  {
   "cell_type": "code",
   "execution_count": null,
   "metadata": {
    "id": "OEo0D52qCmbs"
   },
   "outputs": [],
   "source": [
    "# Realizamos la partición\n",
    "df_resumen_1 = df_resumen[df_resumen[\"Serum\"] > 1.815]\n",
    "df_resumen_2 = df_resumen[df_resumen[\"Serum\"] < 1.815]"
   ]
  },
  {
   "cell_type": "markdown",
   "metadata": {
    "id": "W7WioeqWMbbF"
   },
   "source": [
    "### 030201 Rama Izquierda (1)"
   ]
  },
  {
   "cell_type": "code",
   "execution_count": null,
   "metadata": {
    "id": "KJnyLZRACmfc"
   },
   "outputs": [],
   "source": [
    "# Siguiente partición\n",
    "seleccion_particion(df_resumen_1, \"Fallece\", [\"Edad\"], [\"Anemia\"])"
   ]
  },
  {
   "cell_type": "code",
   "execution_count": null,
   "metadata": {
    "id": "DUa4pGiZI_AF"
   },
   "outputs": [],
   "source": [
    "# Realizamos la siguiente partición\n",
    "df_resumen_1_1 = df_resumen[((df_resumen[\"Serum\"] > 1.815) & (df_resumen[\"Edad\"] > 71))]\n",
    "df_resumen_1_2 = df_resumen[((df_resumen[\"Serum\"] > 1.815) & (df_resumen[\"Edad\"] < 71))]"
   ]
  },
  {
   "cell_type": "code",
   "execution_count": null,
   "metadata": {
    "id": "7AkXkkPKJPmz"
   },
   "outputs": [],
   "source": [
    "# Siguiente partición\n",
    "seleccion_particion(df_resumen_1_1, \"Fallece\", [], [\"Anemia\"])"
   ]
  },
  {
   "cell_type": "code",
   "execution_count": null,
   "metadata": {
    "id": "pI2rXQiDJT6H"
   },
   "outputs": [],
   "source": [
    "# Siguiente partición\n",
    "seleccion_particion(df_resumen_1_2, \"Fallece\", [], [\"Anemia\"])"
   ]
  },
  {
   "cell_type": "markdown",
   "metadata": {
    "id": "8g7jwnRYMg_I"
   },
   "source": [
    "### 030202 Rama derecha (2)"
   ]
  },
  {
   "cell_type": "code",
   "execution_count": null,
   "metadata": {
    "id": "vKC_p05cCmjM"
   },
   "outputs": [],
   "source": [
    "# Siguiente partición\n",
    "seleccion_particion(df_resumen_2, \"Fallece\", [\"Edad\"], [\"Anemia\"])"
   ]
  },
  {
   "cell_type": "code",
   "execution_count": null,
   "metadata": {
    "id": "MPtY6yUCIsqS"
   },
   "outputs": [],
   "source": [
    "# Realizamos la siguiente partición\n",
    "df_resumen_2_1 = df_resumen[\n",
    "    ((df_resumen[\"Serum\"] < 1.815) & (df_resumen[\"Edad\"] > 79.5))\n",
    "]\n",
    "df_resumen_2_2 = df_resumen[\n",
    "    ((df_resumen[\"Serum\"] < 1.815) & (df_resumen[\"Edad\"] < 79.5))\n",
    "]"
   ]
  },
  {
   "cell_type": "code",
   "execution_count": null,
   "metadata": {
    "id": "TzCpQfxIIsuN"
   },
   "outputs": [],
   "source": [
    "# Siguiente partición\n",
    "seleccion_particion(df_resumen_2_1, \"Fallece\", [], [\"Anemia\"])"
   ]
  },
  {
   "cell_type": "code",
   "execution_count": null,
   "metadata": {
    "id": "ki0hwWcbIsx8"
   },
   "outputs": [],
   "source": [
    "# Siguiente partición\n",
    "seleccion_particion(df_resumen_2_2, \"Fallece\", [], [\"Anemia\"])"
   ]
  },
  {
   "cell_type": "markdown",
   "metadata": {
    "id": "ue1Rhq1gNAJa"
   },
   "source": [
    "### EJERCICIO\n",
    "Genera un árbol sin restringir la repetición de variables en una misma rama de la misma forma que en el ejemplo anterior."
   ]
  },
  {
   "cell_type": "code",
   "execution_count": null,
   "metadata": {
    "id": "HUPjXBihPDB7"
   },
   "outputs": [],
   "source": []
  },
  {
   "cell_type": "markdown",
   "metadata": {
    "id": "sRO6wMepPOJj"
   },
   "source": [
    "# 04 Construcción árbol de decisión con scikit learn\n",
    "Ahora de manera automática, utilizando la librería [scikit learn](https://scikit-learn.org/stable/), la libería básica de referencia para machine learning."
   ]
  },
  {
   "cell_type": "markdown",
   "metadata": {
    "id": "SXSNgNJrsdva"
   },
   "source": [
    "## 0401 Importamos las librerías"
   ]
  },
  {
   "cell_type": "code",
   "execution_count": null,
   "metadata": {
    "id": "dpc44ulgPFkN"
   },
   "outputs": [],
   "source": [
    "# Nos importamos las funciones de árboles de scikit learn\n",
    "from sklearn import tree"
   ]
  },
  {
   "cell_type": "markdown",
   "metadata": {
    "id": "H9WKeVmAv89P"
   },
   "source": [
    "## 0402 Inicializamos el árbol\n",
    "Definiendo las características que tendrá.\n",
    "\n",
    "https://scikit-learn.org/stable/modules/generated/sklearn.tree.DecisionTreeClassifier.html#sklearn.tree.DecisionTreeClassifier"
   ]
  },
  {
   "cell_type": "code",
   "execution_count": null,
   "metadata": {
    "id": "c_yzGJ-UP6wq"
   },
   "outputs": [],
   "source": [
    "# Inicializamos un árbol. Por ahora está vacío.\n",
    "# Solo definimos cómo queremos que sea en cuanto a su estructura y condiciones de entrenamiento\n",
    "arbol = tree.DecisionTreeClassifier(max_depth=3)\n",
    "arbol"
   ]
  },
  {
   "cell_type": "markdown",
   "metadata": {
    "id": "1_Q84Q2GJjDC"
   },
   "source": [
    "## 0403 Entrenamos el modelo\n",
    "Una vez inicializado y definido el árbol, el método .[fit()](https://scikit-learn.org/stable/modules/generated/sklearn.tree.DecisionTreeClassifier.html#sklearn.tree.DecisionTreeClassifier.fit) realiza el proceso de particionado recursivo que hemos hecho nosotros antes a mano."
   ]
  },
  {
   "cell_type": "code",
   "execution_count": null,
   "metadata": {
    "id": "QzlRebscRxCe"
   },
   "outputs": [],
   "source": [
    "# Entrenamos el árbol inicializado a partir de los datos que le pasemos con .fit()\n",
    "arbol = arbol.fit(\n",
    "    X=df_resumen[[\"Edad\", \"Serum\", \"Anemia\"]],  # vars descriptivas\n",
    "    y=df_resumen[[\"Fallece\"]],\n",
    ")  # var objetico\n",
    "arbol"
   ]
  },
  {
   "cell_type": "markdown",
   "metadata": {
    "id": "akjuRe9yLQ8R"
   },
   "source": [
    "## 0404 Visualizamos el modelo\n",
    "Una vez entrenado el modelo, podemos visualizarlo."
   ]
  },
  {
   "cell_type": "code",
   "execution_count": null,
   "metadata": {
    "id": "23xmBvxkRFsq"
   },
   "outputs": [],
   "source": [
    "# Con el método export_text en un print()\n",
    "esquema_print = tree.export_text(arbol, feature_names=[\"Edad\", \"Serum\", \"Anemia\"])\n",
    "print(esquema_print)"
   ]
  },
  {
   "cell_type": "code",
   "execution_count": null,
   "metadata": {
    "id": "mcJgYPAMQSNG"
   },
   "outputs": [],
   "source": [
    "# O con la librería graphviz\n",
    "import graphviz\n",
    "\n",
    "# Export_graphviz\n",
    "dot_data = tree.export_graphviz(\n",
    "    arbol, out_file=None, feature_names=[\"Edad\", \"Serum\", \"Anemia\"]\n",
    ")\n",
    "graph = graphviz.Source(dot_data)\n",
    "graph"
   ]
  },
  {
   "cell_type": "markdown",
   "metadata": {
    "id": "WYs1eiOgMKWU"
   },
   "source": [
    "## 0405 Realizamos una predicción\n",
    "Una vez el modelo está entrenado (definido) podemos pasarle datos para obtener las prediciones correspondientes de la variable objetivo.\n",
    "\n",
    "Para esto utilizamos el método .[predict()](https://scikit-learn.org/stable/modules/generated/sklearn.tree.DecisionTreeClassifier.html#sklearn.tree.DecisionTreeClassifier.predict)."
   ]
  },
  {
   "cell_type": "code",
   "execution_count": null,
   "metadata": {
    "id": "acmqdf6ByLdw"
   },
   "outputs": [],
   "source": [
    "# Predicción\n",
    "prediccion = arbol.predict(df_resumen[[\"Edad\", \"Serum\", \"Anemia\"]])\n",
    "prediccion"
   ]
  },
  {
   "cell_type": "code",
   "execution_count": null,
   "metadata": {
    "id": "3cMYHbiDyRPW"
   },
   "outputs": [],
   "source": [
    "# Cómo de buena es la predicción?\n",
    "from sklearn.metrics import accuracy_score\n",
    "\n",
    "accuracy_score(df_resumen[\"Fallece\"], prediccion)"
   ]
  },
  {
   "cell_type": "markdown",
   "metadata": {
    "id": "OOwjE0vpVDAV"
   },
   "source": [
    "# 05 EJEMPLO\n",
    "Entrenamos un árbol de decisión con todas las variables del set de datos de accidente cardiaco, y evaluamos si la predicción es mejor o peor que utilizando tres variables."
   ]
  },
  {
   "cell_type": "code",
   "execution_count": null,
   "metadata": {
    "id": "IA-sUogXVhQo"
   },
   "outputs": [],
   "source": [
    "df.head(2)"
   ]
  },
  {
   "cell_type": "code",
   "execution_count": null,
   "metadata": {
    "id": "ayeaAVKLVBzE"
   },
   "outputs": [],
   "source": [
    "# Inicializamos un árbol. Por ahora está vacío. Solo definimos cómo queremos que sea.\n",
    "arbol_grande = tree.DecisionTreeClassifier(max_depth=6)"
   ]
  },
  {
   "cell_type": "code",
   "execution_count": null,
   "metadata": {
    "id": "JtLHTyK163Aw"
   },
   "outputs": [],
   "source": [
    "# Matrices de datos\n",
    "cols = [\n",
    "    \"age\",\n",
    "    \"anaemia\",\n",
    "    \"creatinine_phosphokinase\",\n",
    "    \"diabetes\",\n",
    "    \"ejection_fraction\",\n",
    "    \"high_blood_pressure\",\n",
    "    \"platelets\",\n",
    "    \"serum_creatinine\",\n",
    "    \"serum_sodium\",\n",
    "    \"sex\",\n",
    "    \"smoking\",\n",
    "]\n",
    "X = df[cols]\n",
    "y = df[\"DEATH_EVENT\"]"
   ]
  },
  {
   "cell_type": "code",
   "execution_count": null,
   "metadata": {
    "id": "s9yle38RS-DP"
   },
   "outputs": [],
   "source": [
    "# Entrenamos el árbol inicializado a partir de los datos que le pasemos con .fit()\n",
    "# No utilizamos la variable Time porque da información del target\n",
    "# (no la conoceríamos a la hora de hacer una predicción del futuro)\n",
    "\n",
    "arbol_grande = arbol_grande.fit(X=X, y=y)\n",
    "arbol_grande"
   ]
  },
  {
   "cell_type": "code",
   "execution_count": null,
   "metadata": {
    "id": "-w4XaJn9VqRY"
   },
   "outputs": [],
   "source": [
    "# Podemos visualizar la estructura\n",
    "print(tree.export_text(arbol_grande, feature_names=list(df.iloc[:, :-2].columns)))"
   ]
  },
  {
   "cell_type": "code",
   "execution_count": null,
   "metadata": {
    "id": "dZc4ejfOV7oX"
   },
   "outputs": [],
   "source": [
    "import graphviz\n",
    "\n",
    "dot_data = tree.export_graphviz(\n",
    "    arbol_grande, out_file=None, feature_names=list(X.columns)\n",
    ")\n",
    "graph = graphviz.Source(dot_data)\n",
    "graph"
   ]
  },
  {
   "cell_type": "code",
   "execution_count": null,
   "metadata": {
    "id": "N-0NlQ6xV-b4"
   },
   "outputs": [],
   "source": [
    "# Predicción\n",
    "prediccion = arbol_grande.predict(X)\n",
    "prediccion"
   ]
  },
  {
   "cell_type": "code",
   "execution_count": null,
   "metadata": {
    "id": "MRlWh4DzXdnD"
   },
   "outputs": [],
   "source": [
    "# Precisión de la predicción\n",
    "accuracy_score(y, prediccion)"
   ]
  },
  {
   "cell_type": "markdown",
   "metadata": {
    "id": "V66-xgckYMQs"
   },
   "source": [
    "# 06 EJERCICIO TITANIC\n",
    "Recordais el dataset del Titanic?\n",
    "\n",
    "Vamos a hacer un árbol de decisión que prediga si alguien fallece o no.\n",
    "\n",
    "Para ello utilizaremos un dataset previamente transformado, ya listo para entrenar un árbol. En la próxima clase veremos por qué el dataset tiene que estar en un formato determinado y cómo conseguirlo."
   ]
  },
  {
   "cell_type": "markdown",
   "metadata": {
    "id": "EDiMGl7xOm6o"
   },
   "source": [
    "## 0601 Importa el dataset\n",
    "Puedes encontrarlo en mi github. Este es el link al archivo raw: https://raw.githubusercontent.com/astrojuanlu/the-valley-mds-arboles/main/data/Titanic_Limpio.csv.\n",
    "\n",
    "Importa los datos en un dataframe llamado **dataframe df_titanic**."
   ]
  },
  {
   "cell_type": "code",
   "execution_count": null,
   "metadata": {
    "id": "hYiZbvGgYGzt"
   },
   "outputs": [],
   "source": [
    "# Url archivo raw\n",
    "url = \"https://raw.githubusercontent.com/astrojuanlu/the-valley-mds-arboles/main/data/Titanic_Limpio.csv\"\n",
    "\n",
    "# Importa csv\n",
    "df_titanic = pd.read_csv(url)\n",
    "\n",
    "# Visualización primeras filas\n",
    "df_titanic.head(2)"
   ]
  },
  {
   "cell_type": "markdown",
   "metadata": {
    "id": "GFRXHI0DPEpq"
   },
   "source": [
    "## 0602 Crea el árbol de decisión\n",
    "Utiliza una profundidad de 6 capas."
   ]
  },
  {
   "cell_type": "code",
   "execution_count": null,
   "metadata": {
    "id": "RXLmB0Vpq8N6"
   },
   "outputs": [],
   "source": [
    "# Crea una lista con las variables que vamos a utilizar para predecir:\n",
    "# ['Pclass', 'Sex', 'SibSp', 'Parch', 'Fare', 'Age', 'Embarked_C', 'Embarked_Q', 'Embarked_S']\n",
    "lista =\n",
    "\n",
    "# Genera el dataframe \"X\" con las variables predictoras y la serie \"y\" con el target\n",
    "X =\n",
    "y ="
   ]
  },
  {
   "cell_type": "code",
   "execution_count": null,
   "metadata": {
    "id": "KacvVtRaPJ8z"
   },
   "outputs": [],
   "source": [
    "# Inicializamos un árbol definiendo la profundidad\n",
    "arbol_titanic ="
   ]
  },
  {
   "cell_type": "code",
   "execution_count": null,
   "metadata": {
    "id": "zZPdXY0EPZbY"
   },
   "outputs": [],
   "source": [
    "# Entrena el árbol con los datos del Titanic"
   ]
  },
  {
   "cell_type": "markdown",
   "metadata": {
    "id": "U0qVZHdNPT0I"
   },
   "source": [
    "## 0603 Visualiza el árbol\n",
    "Qué variables utiliza el árbol para inferir el riesgo de muerte? Tiene sentido?"
   ]
  },
  {
   "cell_type": "code",
   "execution_count": null,
   "metadata": {
    "id": "PJ9TMK6CPhXm"
   },
   "outputs": [],
   "source": [
    "# con export_test"
   ]
  },
  {
   "cell_type": "code",
   "execution_count": null,
   "metadata": {
    "id": "A4tx4cKxPl0E"
   },
   "outputs": [],
   "source": [
    "# con export_graphviz"
   ]
  },
  {
   "cell_type": "markdown",
   "metadata": {
    "id": "xLKZUzIzP0aa"
   },
   "source": [
    "## 0604 Realiza una predicción\n",
    "Realiza una predicción con tu árbol y comprueba cuánto ha acertado."
   ]
  },
  {
   "cell_type": "code",
   "execution_count": null,
   "metadata": {
    "id": "l8CBX0oZP8ac"
   },
   "outputs": [],
   "source": [
    "# Predicción"
   ]
  },
  {
   "cell_type": "code",
   "execution_count": null,
   "metadata": {
    "id": "wrgn54Pa6YVQ"
   },
   "outputs": [],
   "source": [
    "# Precisión de la predicción"
   ]
  }
 ],
 "metadata": {
  "kernelspec": {
   "display_name": "Python 3 (ipykernel)",
   "language": "python",
   "name": "python3"
  },
  "language_info": {
   "codemirror_mode": {
    "name": "ipython",
    "version": 3
   },
   "file_extension": ".py",
   "mimetype": "text/x-python",
   "name": "python",
   "nbconvert_exporter": "python",
   "pygments_lexer": "ipython3",
   "version": "3.10.11"
  }
 },
 "nbformat": 4,
 "nbformat_minor": 4
}
