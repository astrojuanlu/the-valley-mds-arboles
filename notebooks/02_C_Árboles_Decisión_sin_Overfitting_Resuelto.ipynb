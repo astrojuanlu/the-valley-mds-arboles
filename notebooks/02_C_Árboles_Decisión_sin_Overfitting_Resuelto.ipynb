{
 "cells": [
  {
   "cell_type": "markdown",
   "metadata": {
    "id": "R53FGLN8jo1L"
   },
   "source": [
    "# 01 INTRO: Árboles de Decisión\n",
    "Explicación de cómo construír árboles de decisión.\n",
    "\n",
    "Notebook original por [Javier Blanco Cordero](https://www.linkedin.com/in/javier-blanco-cordero-71373656/)."
   ]
  },
  {
   "cell_type": "markdown",
   "metadata": {
    "id": "LSuEDXhPLi8u"
   },
   "source": [
    "## 0101 Qué es un árbol de decisión?\n",
    "Un tipo de algoritmo de aprendizaje supervisado que se basa en realizar particiones a partir de distintos niveles de las variables disponibles."
   ]
  },
  {
   "cell_type": "markdown",
   "metadata": {
    "id": "cnHRaho3rsXS"
   },
   "source": [
    "## 0102 Import\n",
    "Importamos todas las librerías necesarias para este análisis ([¿No sabes lo que es una librería de Python?](https://www.quora.com/What-is-a-Python-library-and-what-can-I-use-it-for)): pandas, numpy, seaborn, matplotlib."
   ]
  },
  {
   "cell_type": "code",
   "execution_count": null,
   "metadata": {
    "id": "4be6xiUqjPHI"
   },
   "outputs": [],
   "source": [
    "import pandas as pd\n",
    "import numpy as np\n",
    "import matplotlib.pyplot as plt\n",
    "import seaborn as sns\n",
    "import graphviz\n",
    "from sklearn import tree\n",
    "from sklearn.metrics import accuracy_score\n",
    "from sklearn.metrics import mean_squared_error"
   ]
  },
  {
   "cell_type": "markdown",
   "metadata": {
    "id": "AblkT14d4Gvt"
   },
   "source": [
    "## 0103 Carga el dataset de coches de segunda mano\n",
    "Para probar a hacer árboles de decisión sin overfitting utilizaremos un dataset sobre el precio de distintos coches de segunda mano que he encontrado en Kaggle ([aquí](https://www.kaggle.com/harturo123/online-adds-of-used-cars)).\n",
    "\n",
    "Podéis encontrar el archivo listo para importar en mi github: 'https://raw.githubusercontent.com/astrojuanlu/the-valley-mds-arboles/main/data/coches_usados_esp.csv'.\n",
    "\n",
    "Importa este dataset en un dataframe llamado **df**."
   ]
  },
  {
   "cell_type": "code",
   "execution_count": null,
   "metadata": {
    "colab": {
     "base_uri": "https://localhost:8080/",
     "height": 306
    },
    "id": "GMZACcIXOclu",
    "outputId": "eead20d6-9ca9-468f-d970-699b0d6a1537"
   },
   "outputs": [
    {
     "data": {
      "text/html": [
       "<div>\n",
       "<style scoped>\n",
       "    .dataframe tbody tr th:only-of-type {\n",
       "        vertical-align: middle;\n",
       "    }\n",
       "\n",
       "    .dataframe tbody tr th {\n",
       "        vertical-align: top;\n",
       "    }\n",
       "\n",
       "    .dataframe thead th {\n",
       "        text-align: right;\n",
       "    }\n",
       "</style>\n",
       "<table border=\"1\" class=\"dataframe\">\n",
       "  <thead>\n",
       "    <tr style=\"text-align: right;\">\n",
       "      <th></th>\n",
       "      <th>ID</th>\n",
       "      <th>make</th>\n",
       "      <th>model</th>\n",
       "      <th>version</th>\n",
       "      <th>months_old</th>\n",
       "      <th>power</th>\n",
       "      <th>sale_type</th>\n",
       "      <th>num_owners</th>\n",
       "      <th>gear_type</th>\n",
       "      <th>fuel_type</th>\n",
       "      <th>kms</th>\n",
       "      <th>price</th>\n",
       "    </tr>\n",
       "  </thead>\n",
       "  <tbody>\n",
       "    <tr>\n",
       "      <th>0</th>\n",
       "      <td>97860</td>\n",
       "      <td>Porsche</td>\n",
       "      <td>911</td>\n",
       "      <td>Carrera 4 S Coup�</td>\n",
       "      <td>240.0</td>\n",
       "      <td>210.0</td>\n",
       "      <td>classic</td>\n",
       "      <td>3.0</td>\n",
       "      <td>manual</td>\n",
       "      <td>gasoline</td>\n",
       "      <td>202000.0</td>\n",
       "      <td>999999</td>\n",
       "    </tr>\n",
       "    <tr>\n",
       "      <th>1</th>\n",
       "      <td>27821</td>\n",
       "      <td>Ford</td>\n",
       "      <td>Mustang</td>\n",
       "      <td>Gt500 Cabrio Vendido</td>\n",
       "      <td>54.0</td>\n",
       "      <td>487.0</td>\n",
       "      <td>used</td>\n",
       "      <td>1.0</td>\n",
       "      <td>manual</td>\n",
       "      <td>gasoline</td>\n",
       "      <td>30000.0</td>\n",
       "      <td>685000</td>\n",
       "    </tr>\n",
       "    <tr>\n",
       "      <th>2</th>\n",
       "      <td>97801</td>\n",
       "      <td>Porsche</td>\n",
       "      <td>911</td>\n",
       "      <td>3.3 Turbo Targa (Precio A Consultar)</td>\n",
       "      <td>358.0</td>\n",
       "      <td>220.0</td>\n",
       "      <td>used</td>\n",
       "      <td>NaN</td>\n",
       "      <td>manual</td>\n",
       "      <td>gasoline</td>\n",
       "      <td>56300.0</td>\n",
       "      <td>555555</td>\n",
       "    </tr>\n",
       "    <tr>\n",
       "      <th>3</th>\n",
       "      <td>98251</td>\n",
       "      <td>Porsche</td>\n",
       "      <td>911</td>\n",
       "      <td>R Unidad 343 De 991-Iva Deducible</td>\n",
       "      <td>14.0</td>\n",
       "      <td>368.0</td>\n",
       "      <td>used</td>\n",
       "      <td>1.0</td>\n",
       "      <td>manual</td>\n",
       "      <td>gasoline</td>\n",
       "      <td>2800.0</td>\n",
       "      <td>470000</td>\n",
       "    </tr>\n",
       "    <tr>\n",
       "      <th>4</th>\n",
       "      <td>98250</td>\n",
       "      <td>Porsche</td>\n",
       "      <td>911</td>\n",
       "      <td>Gt2 Rs</td>\n",
       "      <td>3.0</td>\n",
       "      <td>515.0</td>\n",
       "      <td>used</td>\n",
       "      <td>NaN</td>\n",
       "      <td>NaN</td>\n",
       "      <td>gasoline</td>\n",
       "      <td>10.0</td>\n",
       "      <td>450000</td>\n",
       "    </tr>\n",
       "  </tbody>\n",
       "</table>\n",
       "</div>"
      ],
      "text/plain": [
       "      ID     make    model  ... fuel_type       kms   price\n",
       "0  97860  Porsche      911  ...  gasoline  202000.0  999999\n",
       "1  27821     Ford  Mustang  ...  gasoline   30000.0  685000\n",
       "2  97801  Porsche      911  ...  gasoline   56300.0  555555\n",
       "3  98251  Porsche      911  ...  gasoline    2800.0  470000\n",
       "4  98250  Porsche      911  ...  gasoline      10.0  450000\n",
       "\n",
       "[5 rows x 12 columns]"
      ]
     },
     "execution_count": 2,
     "metadata": {
      "tags": []
     },
     "output_type": "execute_result"
    }
   ],
   "source": [
    "# Url archivo raw\n",
    "url = \"https://raw.githubusercontent.com/astrojuanlu/the-valley-mds-arboles/main/data/coches_usados_esp.csv\"\n",
    "\n",
    "# Importa csv\n",
    "df = pd.read_csv(url, sep=\";\")\n",
    "\n",
    "# Visualización primeras filas\n",
    "df.head()"
   ]
  },
  {
   "cell_type": "markdown",
   "metadata": {
    "id": "KBOQJ0AjdYrM"
   },
   "source": [
    "# 02 EDA\n",
    "Realizaremos un pequeño análisis exploratorio visual para familiarizarnos con el dataset."
   ]
  },
  {
   "cell_type": "code",
   "execution_count": null,
   "metadata": {
    "colab": {
     "base_uri": "https://localhost:8080/"
    },
    "id": "qGrwhGyaj0-a",
    "outputId": "d32ba2f2-9923-4b5d-b3d9-ad41a878a09d"
   },
   "outputs": [
    {
     "name": "stdout",
     "output_type": "stream",
     "text": [
      "<class 'pandas.core.frame.DataFrame'>\n",
      "RangeIndex: 93991 entries, 0 to 93990\n",
      "Data columns (total 12 columns):\n",
      " #   Column      Non-Null Count  Dtype  \n",
      "---  ------      --------------  -----  \n",
      " 0   ID          93991 non-null  int64  \n",
      " 1   make        93991 non-null  object \n",
      " 2   model       93991 non-null  object \n",
      " 3   version     93991 non-null  object \n",
      " 4   months_old  93717 non-null  float64\n",
      " 5   power       93504 non-null  float64\n",
      " 6   sale_type   93979 non-null  object \n",
      " 7   num_owners  22660 non-null  float64\n",
      " 8   gear_type   92710 non-null  object \n",
      " 9   fuel_type   93926 non-null  object \n",
      " 10  kms         93127 non-null  float64\n",
      " 11  price       93991 non-null  int64  \n",
      "dtypes: float64(4), int64(2), object(6)\n",
      "memory usage: 8.6+ MB\n"
     ]
    }
   ],
   "source": [
    "df.info()"
   ]
  },
  {
   "cell_type": "code",
   "execution_count": null,
   "metadata": {
    "colab": {
     "base_uri": "https://localhost:8080/"
    },
    "id": "J1_5T47haV8Q",
    "outputId": "d9b402d8-84f5-4aac-e3c8-efccd909da6f"
   },
   "outputs": [
    {
     "data": {
      "text/plain": [
       "ID                0\n",
       "make              0\n",
       "model             0\n",
       "version           0\n",
       "months_old      274\n",
       "power           487\n",
       "sale_type        12\n",
       "num_owners    71331\n",
       "gear_type      1281\n",
       "fuel_type        65\n",
       "kms             864\n",
       "price             0\n",
       "dtype: int64"
      ]
     },
     "execution_count": 4,
     "metadata": {
      "tags": []
     },
     "output_type": "execute_result"
    }
   ],
   "source": [
    "df.isna().sum()"
   ]
  },
  {
   "cell_type": "code",
   "execution_count": null,
   "metadata": {
    "colab": {
     "base_uri": "https://localhost:8080/",
     "height": 297
    },
    "id": "8LoZpl8rjWEX",
    "outputId": "bf1e3eb2-f053-4914-a74c-96d4540dda5d"
   },
   "outputs": [
    {
     "data": {
      "text/html": [
       "<div>\n",
       "<style scoped>\n",
       "    .dataframe tbody tr th:only-of-type {\n",
       "        vertical-align: middle;\n",
       "    }\n",
       "\n",
       "    .dataframe tbody tr th {\n",
       "        vertical-align: top;\n",
       "    }\n",
       "\n",
       "    .dataframe thead th {\n",
       "        text-align: right;\n",
       "    }\n",
       "</style>\n",
       "<table border=\"1\" class=\"dataframe\">\n",
       "  <thead>\n",
       "    <tr style=\"text-align: right;\">\n",
       "      <th></th>\n",
       "      <th>ID</th>\n",
       "      <th>months_old</th>\n",
       "      <th>power</th>\n",
       "      <th>num_owners</th>\n",
       "      <th>kms</th>\n",
       "      <th>price</th>\n",
       "    </tr>\n",
       "  </thead>\n",
       "  <tbody>\n",
       "    <tr>\n",
       "      <th>count</th>\n",
       "      <td>93991.00000</td>\n",
       "      <td>93717.000000</td>\n",
       "      <td>93504.000000</td>\n",
       "      <td>22660.000000</td>\n",
       "      <td>93127.000000</td>\n",
       "      <td>93991.000000</td>\n",
       "    </tr>\n",
       "    <tr>\n",
       "      <th>mean</th>\n",
       "      <td>55100.87935</td>\n",
       "      <td>63.094775</td>\n",
       "      <td>99.729477</td>\n",
       "      <td>1.055119</td>\n",
       "      <td>82702.565250</td>\n",
       "      <td>16587.291379</td>\n",
       "    </tr>\n",
       "    <tr>\n",
       "      <th>std</th>\n",
       "      <td>33119.32602</td>\n",
       "      <td>56.837686</td>\n",
       "      <td>42.698809</td>\n",
       "      <td>0.277124</td>\n",
       "      <td>75186.697789</td>\n",
       "      <td>15563.712383</td>\n",
       "    </tr>\n",
       "    <tr>\n",
       "      <th>min</th>\n",
       "      <td>25.00000</td>\n",
       "      <td>1.000000</td>\n",
       "      <td>0.000000</td>\n",
       "      <td>1.000000</td>\n",
       "      <td>0.000000</td>\n",
       "      <td>200.000000</td>\n",
       "    </tr>\n",
       "    <tr>\n",
       "      <th>25%</th>\n",
       "      <td>25452.50000</td>\n",
       "      <td>16.000000</td>\n",
       "      <td>77.000000</td>\n",
       "      <td>1.000000</td>\n",
       "      <td>18300.000000</td>\n",
       "      <td>8500.000000</td>\n",
       "    </tr>\n",
       "    <tr>\n",
       "      <th>50%</th>\n",
       "      <td>53896.00000</td>\n",
       "      <td>46.000000</td>\n",
       "      <td>88.000000</td>\n",
       "      <td>1.000000</td>\n",
       "      <td>66000.000000</td>\n",
       "      <td>13490.000000</td>\n",
       "    </tr>\n",
       "    <tr>\n",
       "      <th>75%</th>\n",
       "      <td>83573.50000</td>\n",
       "      <td>96.000000</td>\n",
       "      <td>110.000000</td>\n",
       "      <td>1.000000</td>\n",
       "      <td>129000.000000</td>\n",
       "      <td>19999.000000</td>\n",
       "    </tr>\n",
       "    <tr>\n",
       "      <th>max</th>\n",
       "      <td>113143.00000</td>\n",
       "      <td>374.000000</td>\n",
       "      <td>809.000000</td>\n",
       "      <td>11.000000</td>\n",
       "      <td>497000.000000</td>\n",
       "      <td>999999.000000</td>\n",
       "    </tr>\n",
       "  </tbody>\n",
       "</table>\n",
       "</div>"
      ],
      "text/plain": [
       "                 ID    months_old  ...            kms          price\n",
       "count   93991.00000  93717.000000  ...   93127.000000   93991.000000\n",
       "mean    55100.87935     63.094775  ...   82702.565250   16587.291379\n",
       "std     33119.32602     56.837686  ...   75186.697789   15563.712383\n",
       "min        25.00000      1.000000  ...       0.000000     200.000000\n",
       "25%     25452.50000     16.000000  ...   18300.000000    8500.000000\n",
       "50%     53896.00000     46.000000  ...   66000.000000   13490.000000\n",
       "75%     83573.50000     96.000000  ...  129000.000000   19999.000000\n",
       "max    113143.00000    374.000000  ...  497000.000000  999999.000000\n",
       "\n",
       "[8 rows x 6 columns]"
      ]
     },
     "execution_count": 5,
     "metadata": {
      "tags": []
     },
     "output_type": "execute_result"
    }
   ],
   "source": [
    "df.describe()"
   ]
  },
  {
   "cell_type": "code",
   "execution_count": null,
   "metadata": {
    "colab": {
     "base_uri": "https://localhost:8080/",
     "height": 433
    },
    "id": "YUz-qSwBjaEW",
    "outputId": "5e3d9991-8bf7-428a-ccce-7322b93fe021"
   },
   "outputs": [
    {
     "data": {
      "image/png": "[encoded data removed]",
      "text/plain": [
       "<Figure size 576x504 with 2 Axes>"
      ]
     },
     "metadata": {
      "needs_background": "light",
      "tags": []
     },
     "output_type": "display_data"
    }
   ],
   "source": [
    "# Visualización coeficientes Pearson\n",
    "plt.figure(figsize=(8, 7))\n",
    "sns.heatmap(np.round(df.corr(), 2), vmin=-1, vmax=1, annot=True, cmap=\"coolwarm\")\n",
    "plt.show()"
   ]
  },
  {
   "cell_type": "markdown",
   "metadata": {
    "id": "cgH2I3otagdU"
   },
   "source": [
    "# 03 EJEMPLO\n",
    "Vamos a ver paso a paso cómo realizar un modelo que prediga el precio sin caer en overfitting."
   ]
  },
  {
   "cell_type": "markdown",
   "metadata": {
    "id": "eCQnyHTcawdU"
   },
   "source": [
    "## 0301 Preparamos los datos\n",
    "El dataframe tiene algunos nulos, así como variables categóricas y presencia de ciertas variables que probablemente no queramos usar."
   ]
  },
  {
   "cell_type": "markdown",
   "metadata": {
    "id": "RAXljoaabIQ5"
   },
   "source": [
    "### 030101 Variables Útiles\n",
    "De entre las variables disponibles, veamos cuáles queremos utilizar como predictoras para el estudio."
   ]
  },
  {
   "cell_type": "code",
   "execution_count": null,
   "metadata": {
    "colab": {
     "base_uri": "https://localhost:8080/",
     "height": 306
    },
    "id": "koTejjQJbTmp",
    "outputId": "66e7cc93-ee1c-4a75-f796-a3b584abd8e2"
   },
   "outputs": [
    {
     "data": {
      "text/html": [
       "<div>\n",
       "<style scoped>\n",
       "    .dataframe tbody tr th:only-of-type {\n",
       "        vertical-align: middle;\n",
       "    }\n",
       "\n",
       "    .dataframe tbody tr th {\n",
       "        vertical-align: top;\n",
       "    }\n",
       "\n",
       "    .dataframe thead th {\n",
       "        text-align: right;\n",
       "    }\n",
       "</style>\n",
       "<table border=\"1\" class=\"dataframe\">\n",
       "  <thead>\n",
       "    <tr style=\"text-align: right;\">\n",
       "      <th></th>\n",
       "      <th>ID</th>\n",
       "      <th>make</th>\n",
       "      <th>model</th>\n",
       "      <th>version</th>\n",
       "      <th>months_old</th>\n",
       "      <th>power</th>\n",
       "      <th>sale_type</th>\n",
       "      <th>num_owners</th>\n",
       "      <th>gear_type</th>\n",
       "      <th>fuel_type</th>\n",
       "      <th>kms</th>\n",
       "      <th>price</th>\n",
       "    </tr>\n",
       "  </thead>\n",
       "  <tbody>\n",
       "    <tr>\n",
       "      <th>0</th>\n",
       "      <td>97860</td>\n",
       "      <td>Porsche</td>\n",
       "      <td>911</td>\n",
       "      <td>Carrera 4 S Coup�</td>\n",
       "      <td>240.0</td>\n",
       "      <td>210.0</td>\n",
       "      <td>classic</td>\n",
       "      <td>3.0</td>\n",
       "      <td>manual</td>\n",
       "      <td>gasoline</td>\n",
       "      <td>202000.0</td>\n",
       "      <td>999999</td>\n",
       "    </tr>\n",
       "    <tr>\n",
       "      <th>1</th>\n",
       "      <td>27821</td>\n",
       "      <td>Ford</td>\n",
       "      <td>Mustang</td>\n",
       "      <td>Gt500 Cabrio Vendido</td>\n",
       "      <td>54.0</td>\n",
       "      <td>487.0</td>\n",
       "      <td>used</td>\n",
       "      <td>1.0</td>\n",
       "      <td>manual</td>\n",
       "      <td>gasoline</td>\n",
       "      <td>30000.0</td>\n",
       "      <td>685000</td>\n",
       "    </tr>\n",
       "    <tr>\n",
       "      <th>2</th>\n",
       "      <td>97801</td>\n",
       "      <td>Porsche</td>\n",
       "      <td>911</td>\n",
       "      <td>3.3 Turbo Targa (Precio A Consultar)</td>\n",
       "      <td>358.0</td>\n",
       "      <td>220.0</td>\n",
       "      <td>used</td>\n",
       "      <td>NaN</td>\n",
       "      <td>manual</td>\n",
       "      <td>gasoline</td>\n",
       "      <td>56300.0</td>\n",
       "      <td>555555</td>\n",
       "    </tr>\n",
       "    <tr>\n",
       "      <th>3</th>\n",
       "      <td>98251</td>\n",
       "      <td>Porsche</td>\n",
       "      <td>911</td>\n",
       "      <td>R Unidad 343 De 991-Iva Deducible</td>\n",
       "      <td>14.0</td>\n",
       "      <td>368.0</td>\n",
       "      <td>used</td>\n",
       "      <td>1.0</td>\n",
       "      <td>manual</td>\n",
       "      <td>gasoline</td>\n",
       "      <td>2800.0</td>\n",
       "      <td>470000</td>\n",
       "    </tr>\n",
       "    <tr>\n",
       "      <th>4</th>\n",
       "      <td>98250</td>\n",
       "      <td>Porsche</td>\n",
       "      <td>911</td>\n",
       "      <td>Gt2 Rs</td>\n",
       "      <td>3.0</td>\n",
       "      <td>515.0</td>\n",
       "      <td>used</td>\n",
       "      <td>NaN</td>\n",
       "      <td>NaN</td>\n",
       "      <td>gasoline</td>\n",
       "      <td>10.0</td>\n",
       "      <td>450000</td>\n",
       "    </tr>\n",
       "  </tbody>\n",
       "</table>\n",
       "</div>"
      ],
      "text/plain": [
       "      ID     make    model  ... fuel_type       kms   price\n",
       "0  97860  Porsche      911  ...  gasoline  202000.0  999999\n",
       "1  27821     Ford  Mustang  ...  gasoline   30000.0  685000\n",
       "2  97801  Porsche      911  ...  gasoline   56300.0  555555\n",
       "3  98251  Porsche      911  ...  gasoline    2800.0  470000\n",
       "4  98250  Porsche      911  ...  gasoline      10.0  450000\n",
       "\n",
       "[5 rows x 12 columns]"
      ]
     },
     "execution_count": 7,
     "metadata": {
      "tags": []
     },
     "output_type": "execute_result"
    }
   ],
   "source": [
    "df.head()"
   ]
  },
  {
   "cell_type": "code",
   "execution_count": null,
   "metadata": {
    "colab": {
     "base_uri": "https://localhost:8080/"
    },
    "id": "eSe15ngNbRsI",
    "outputId": "9c8c588c-ad38-47e0-bb9c-2f7b634a1d90"
   },
   "outputs": [
    {
     "data": {
      "text/plain": [
       "Index(['ID', 'make', 'model', 'version', 'months_old', 'power', 'sale_type',\n",
       "       'num_owners', 'gear_type', 'fuel_type', 'kms', 'price'],\n",
       "      dtype='object')"
      ]
     },
     "execution_count": 8,
     "metadata": {
      "tags": []
     },
     "output_type": "execute_result"
    }
   ],
   "source": [
    "df.columns"
   ]
  },
  {
   "cell_type": "code",
   "execution_count": null,
   "metadata": {
    "id": "1CduKZ0_bntL"
   },
   "outputs": [],
   "source": [
    "cols = [\n",
    "    \"make\",\n",
    "    \"model\",\n",
    "    \"months_old\",\n",
    "    \"power\",\n",
    "    \"sale_type\",\n",
    "    \"num_owners\",\n",
    "    \"gear_type\",\n",
    "    \"fuel_type\",\n",
    "    \"kms\",\n",
    "    \"price\",\n",
    "]"
   ]
  },
  {
   "cell_type": "markdown",
   "metadata": {
    "id": "mByQxiFCbRJY"
   },
   "source": [
    "### 030102 Dumificación de variables categóricas"
   ]
  },
  {
   "cell_type": "code",
   "execution_count": null,
   "metadata": {
    "colab": {
     "base_uri": "https://localhost:8080/",
     "height": 287
    },
    "id": "m1_P8ceTb_Cy",
    "outputId": "ab803524-6bc8-46d6-c6bc-f4fb6753b3c1"
   },
   "outputs": [
    {
     "data": {
      "text/plain": [
       "93991"
      ]
     },
     "metadata": {
      "tags": []
     },
     "output_type": "display_data"
    },
    {
     "data": {
      "text/html": [
       "<div>\n",
       "<style scoped>\n",
       "    .dataframe tbody tr th:only-of-type {\n",
       "        vertical-align: middle;\n",
       "    }\n",
       "\n",
       "    .dataframe tbody tr th {\n",
       "        vertical-align: top;\n",
       "    }\n",
       "\n",
       "    .dataframe thead th {\n",
       "        text-align: right;\n",
       "    }\n",
       "</style>\n",
       "<table border=\"1\" class=\"dataframe\">\n",
       "  <thead>\n",
       "    <tr style=\"text-align: right;\">\n",
       "      <th></th>\n",
       "      <th>months_old</th>\n",
       "      <th>power</th>\n",
       "      <th>num_owners</th>\n",
       "      <th>kms</th>\n",
       "      <th>price</th>\n",
       "      <th>make_Audi</th>\n",
       "      <th>make_Bentley</th>\n",
       "      <th>make_Bmw</th>\n",
       "      <th>make_Chevrolet</th>\n",
       "      <th>make_Chrysler</th>\n",
       "      <th>make_Citroen</th>\n",
       "      <th>make_Dacia</th>\n",
       "      <th>make_Ds</th>\n",
       "      <th>make_Fiat</th>\n",
       "      <th>make_Ford</th>\n",
       "      <th>make_Honda</th>\n",
       "      <th>make_Hyundai</th>\n",
       "      <th>make_Iveco</th>\n",
       "      <th>make_Jaguar</th>\n",
       "      <th>make_Jeep</th>\n",
       "      <th>make_Kia</th>\n",
       "      <th>make_Land</th>\n",
       "      <th>make_Mazda</th>\n",
       "      <th>make_Mercedes-Benz</th>\n",
       "      <th>make_Mini</th>\n",
       "      <th>make_Mitsubishi</th>\n",
       "      <th>make_Nissan</th>\n",
       "      <th>make_Opel</th>\n",
       "      <th>make_Peugeot</th>\n",
       "      <th>make_Porsche</th>\n",
       "      <th>make_Renault</th>\n",
       "      <th>make_Saab</th>\n",
       "      <th>make_Seat</th>\n",
       "      <th>make_Skoda</th>\n",
       "      <th>make_Smart</th>\n",
       "      <th>make_Ssangyong</th>\n",
       "      <th>make_Suzuki</th>\n",
       "      <th>make_Toyota</th>\n",
       "      <th>make_Volkswagen</th>\n",
       "      <th>make_Volvo</th>\n",
       "      <th>...</th>\n",
       "      <th>model_V220</th>\n",
       "      <th>model_V40</th>\n",
       "      <th>model_V40Cc</th>\n",
       "      <th>model_V60</th>\n",
       "      <th>model_Vectra</th>\n",
       "      <th>model_Verso</th>\n",
       "      <th>model_Viano</th>\n",
       "      <th>model_Vito</th>\n",
       "      <th>model_Vivaro</th>\n",
       "      <th>model_Voyager</th>\n",
       "      <th>model_Wrangler</th>\n",
       "      <th>model_X-Trail</th>\n",
       "      <th>model_X1</th>\n",
       "      <th>model_X3</th>\n",
       "      <th>model_X4</th>\n",
       "      <th>model_X5</th>\n",
       "      <th>model_X6</th>\n",
       "      <th>model_Xc60</th>\n",
       "      <th>model_Xc90</th>\n",
       "      <th>model_Xe</th>\n",
       "      <th>model_Xf</th>\n",
       "      <th>model_Xsara</th>\n",
       "      <th>model_XsaraPicasso</th>\n",
       "      <th>model_Yaris</th>\n",
       "      <th>model_Z4</th>\n",
       "      <th>model_Zafira</th>\n",
       "      <th>model_ZafiraTourer</th>\n",
       "      <th>sale_type_classic</th>\n",
       "      <th>sale_type_demo</th>\n",
       "      <th>sale_type_km_0</th>\n",
       "      <th>sale_type_new</th>\n",
       "      <th>sale_type_used</th>\n",
       "      <th>gear_type_manual</th>\n",
       "      <th>gear_type_semi-automatic</th>\n",
       "      <th>fuel_type_LPG</th>\n",
       "      <th>fuel_type_diesel</th>\n",
       "      <th>fuel_type_electric</th>\n",
       "      <th>fuel_type_etanol</th>\n",
       "      <th>fuel_type_gasoline</th>\n",
       "      <th>fuel_type_hybrid</th>\n",
       "    </tr>\n",
       "  </thead>\n",
       "  <tbody>\n",
       "    <tr>\n",
       "      <th>0</th>\n",
       "      <td>240.0</td>\n",
       "      <td>210.0</td>\n",
       "      <td>3.0</td>\n",
       "      <td>202000.0</td>\n",
       "      <td>999999</td>\n",
       "      <td>0</td>\n",
       "      <td>0</td>\n",
       "      <td>0</td>\n",
       "      <td>0</td>\n",
       "      <td>0</td>\n",
       "      <td>0</td>\n",
       "      <td>0</td>\n",
       "      <td>0</td>\n",
       "      <td>0</td>\n",
       "      <td>0</td>\n",
       "      <td>0</td>\n",
       "      <td>0</td>\n",
       "      <td>0</td>\n",
       "      <td>0</td>\n",
       "      <td>0</td>\n",
       "      <td>0</td>\n",
       "      <td>0</td>\n",
       "      <td>0</td>\n",
       "      <td>0</td>\n",
       "      <td>0</td>\n",
       "      <td>0</td>\n",
       "      <td>0</td>\n",
       "      <td>0</td>\n",
       "      <td>0</td>\n",
       "      <td>1</td>\n",
       "      <td>0</td>\n",
       "      <td>0</td>\n",
       "      <td>0</td>\n",
       "      <td>0</td>\n",
       "      <td>0</td>\n",
       "      <td>0</td>\n",
       "      <td>0</td>\n",
       "      <td>0</td>\n",
       "      <td>0</td>\n",
       "      <td>0</td>\n",
       "      <td>...</td>\n",
       "      <td>0</td>\n",
       "      <td>0</td>\n",
       "      <td>0</td>\n",
       "      <td>0</td>\n",
       "      <td>0</td>\n",
       "      <td>0</td>\n",
       "      <td>0</td>\n",
       "      <td>0</td>\n",
       "      <td>0</td>\n",
       "      <td>0</td>\n",
       "      <td>0</td>\n",
       "      <td>0</td>\n",
       "      <td>0</td>\n",
       "      <td>0</td>\n",
       "      <td>0</td>\n",
       "      <td>0</td>\n",
       "      <td>0</td>\n",
       "      <td>0</td>\n",
       "      <td>0</td>\n",
       "      <td>0</td>\n",
       "      <td>0</td>\n",
       "      <td>0</td>\n",
       "      <td>0</td>\n",
       "      <td>0</td>\n",
       "      <td>0</td>\n",
       "      <td>0</td>\n",
       "      <td>0</td>\n",
       "      <td>1</td>\n",
       "      <td>0</td>\n",
       "      <td>0</td>\n",
       "      <td>0</td>\n",
       "      <td>0</td>\n",
       "      <td>1</td>\n",
       "      <td>0</td>\n",
       "      <td>0</td>\n",
       "      <td>0</td>\n",
       "      <td>0</td>\n",
       "      <td>0</td>\n",
       "      <td>1</td>\n",
       "      <td>0</td>\n",
       "    </tr>\n",
       "    <tr>\n",
       "      <th>1</th>\n",
       "      <td>54.0</td>\n",
       "      <td>487.0</td>\n",
       "      <td>1.0</td>\n",
       "      <td>30000.0</td>\n",
       "      <td>685000</td>\n",
       "      <td>0</td>\n",
       "      <td>0</td>\n",
       "      <td>0</td>\n",
       "      <td>0</td>\n",
       "      <td>0</td>\n",
       "      <td>0</td>\n",
       "      <td>0</td>\n",
       "      <td>0</td>\n",
       "      <td>0</td>\n",
       "      <td>1</td>\n",
       "      <td>0</td>\n",
       "      <td>0</td>\n",
       "      <td>0</td>\n",
       "      <td>0</td>\n",
       "      <td>0</td>\n",
       "      <td>0</td>\n",
       "      <td>0</td>\n",
       "      <td>0</td>\n",
       "      <td>0</td>\n",
       "      <td>0</td>\n",
       "      <td>0</td>\n",
       "      <td>0</td>\n",
       "      <td>0</td>\n",
       "      <td>0</td>\n",
       "      <td>0</td>\n",
       "      <td>0</td>\n",
       "      <td>0</td>\n",
       "      <td>0</td>\n",
       "      <td>0</td>\n",
       "      <td>0</td>\n",
       "      <td>0</td>\n",
       "      <td>0</td>\n",
       "      <td>0</td>\n",
       "      <td>0</td>\n",
       "      <td>0</td>\n",
       "      <td>...</td>\n",
       "      <td>0</td>\n",
       "      <td>0</td>\n",
       "      <td>0</td>\n",
       "      <td>0</td>\n",
       "      <td>0</td>\n",
       "      <td>0</td>\n",
       "      <td>0</td>\n",
       "      <td>0</td>\n",
       "      <td>0</td>\n",
       "      <td>0</td>\n",
       "      <td>0</td>\n",
       "      <td>0</td>\n",
       "      <td>0</td>\n",
       "      <td>0</td>\n",
       "      <td>0</td>\n",
       "      <td>0</td>\n",
       "      <td>0</td>\n",
       "      <td>0</td>\n",
       "      <td>0</td>\n",
       "      <td>0</td>\n",
       "      <td>0</td>\n",
       "      <td>0</td>\n",
       "      <td>0</td>\n",
       "      <td>0</td>\n",
       "      <td>0</td>\n",
       "      <td>0</td>\n",
       "      <td>0</td>\n",
       "      <td>0</td>\n",
       "      <td>0</td>\n",
       "      <td>0</td>\n",
       "      <td>0</td>\n",
       "      <td>1</td>\n",
       "      <td>1</td>\n",
       "      <td>0</td>\n",
       "      <td>0</td>\n",
       "      <td>0</td>\n",
       "      <td>0</td>\n",
       "      <td>0</td>\n",
       "      <td>1</td>\n",
       "      <td>0</td>\n",
       "    </tr>\n",
       "    <tr>\n",
       "      <th>2</th>\n",
       "      <td>358.0</td>\n",
       "      <td>220.0</td>\n",
       "      <td>NaN</td>\n",
       "      <td>56300.0</td>\n",
       "      <td>555555</td>\n",
       "      <td>0</td>\n",
       "      <td>0</td>\n",
       "      <td>0</td>\n",
       "      <td>0</td>\n",
       "      <td>0</td>\n",
       "      <td>0</td>\n",
       "      <td>0</td>\n",
       "      <td>0</td>\n",
       "      <td>0</td>\n",
       "      <td>0</td>\n",
       "      <td>0</td>\n",
       "      <td>0</td>\n",
       "      <td>0</td>\n",
       "      <td>0</td>\n",
       "      <td>0</td>\n",
       "      <td>0</td>\n",
       "      <td>0</td>\n",
       "      <td>0</td>\n",
       "      <td>0</td>\n",
       "      <td>0</td>\n",
       "      <td>0</td>\n",
       "      <td>0</td>\n",
       "      <td>0</td>\n",
       "      <td>0</td>\n",
       "      <td>1</td>\n",
       "      <td>0</td>\n",
       "      <td>0</td>\n",
       "      <td>0</td>\n",
       "      <td>0</td>\n",
       "      <td>0</td>\n",
       "      <td>0</td>\n",
       "      <td>0</td>\n",
       "      <td>0</td>\n",
       "      <td>0</td>\n",
       "      <td>0</td>\n",
       "      <td>...</td>\n",
       "      <td>0</td>\n",
       "      <td>0</td>\n",
       "      <td>0</td>\n",
       "      <td>0</td>\n",
       "      <td>0</td>\n",
       "      <td>0</td>\n",
       "      <td>0</td>\n",
       "      <td>0</td>\n",
       "      <td>0</td>\n",
       "      <td>0</td>\n",
       "      <td>0</td>\n",
       "      <td>0</td>\n",
       "      <td>0</td>\n",
       "      <td>0</td>\n",
       "      <td>0</td>\n",
       "      <td>0</td>\n",
       "      <td>0</td>\n",
       "      <td>0</td>\n",
       "      <td>0</td>\n",
       "      <td>0</td>\n",
       "      <td>0</td>\n",
       "      <td>0</td>\n",
       "      <td>0</td>\n",
       "      <td>0</td>\n",
       "      <td>0</td>\n",
       "      <td>0</td>\n",
       "      <td>0</td>\n",
       "      <td>0</td>\n",
       "      <td>0</td>\n",
       "      <td>0</td>\n",
       "      <td>0</td>\n",
       "      <td>1</td>\n",
       "      <td>1</td>\n",
       "      <td>0</td>\n",
       "      <td>0</td>\n",
       "      <td>0</td>\n",
       "      <td>0</td>\n",
       "      <td>0</td>\n",
       "      <td>1</td>\n",
       "      <td>0</td>\n",
       "    </tr>\n",
       "    <tr>\n",
       "      <th>3</th>\n",
       "      <td>14.0</td>\n",
       "      <td>368.0</td>\n",
       "      <td>1.0</td>\n",
       "      <td>2800.0</td>\n",
       "      <td>470000</td>\n",
       "      <td>0</td>\n",
       "      <td>0</td>\n",
       "      <td>0</td>\n",
       "      <td>0</td>\n",
       "      <td>0</td>\n",
       "      <td>0</td>\n",
       "      <td>0</td>\n",
       "      <td>0</td>\n",
       "      <td>0</td>\n",
       "      <td>0</td>\n",
       "      <td>0</td>\n",
       "      <td>0</td>\n",
       "      <td>0</td>\n",
       "      <td>0</td>\n",
       "      <td>0</td>\n",
       "      <td>0</td>\n",
       "      <td>0</td>\n",
       "      <td>0</td>\n",
       "      <td>0</td>\n",
       "      <td>0</td>\n",
       "      <td>0</td>\n",
       "      <td>0</td>\n",
       "      <td>0</td>\n",
       "      <td>0</td>\n",
       "      <td>1</td>\n",
       "      <td>0</td>\n",
       "      <td>0</td>\n",
       "      <td>0</td>\n",
       "      <td>0</td>\n",
       "      <td>0</td>\n",
       "      <td>0</td>\n",
       "      <td>0</td>\n",
       "      <td>0</td>\n",
       "      <td>0</td>\n",
       "      <td>0</td>\n",
       "      <td>...</td>\n",
       "      <td>0</td>\n",
       "      <td>0</td>\n",
       "      <td>0</td>\n",
       "      <td>0</td>\n",
       "      <td>0</td>\n",
       "      <td>0</td>\n",
       "      <td>0</td>\n",
       "      <td>0</td>\n",
       "      <td>0</td>\n",
       "      <td>0</td>\n",
       "      <td>0</td>\n",
       "      <td>0</td>\n",
       "      <td>0</td>\n",
       "      <td>0</td>\n",
       "      <td>0</td>\n",
       "      <td>0</td>\n",
       "      <td>0</td>\n",
       "      <td>0</td>\n",
       "      <td>0</td>\n",
       "      <td>0</td>\n",
       "      <td>0</td>\n",
       "      <td>0</td>\n",
       "      <td>0</td>\n",
       "      <td>0</td>\n",
       "      <td>0</td>\n",
       "      <td>0</td>\n",
       "      <td>0</td>\n",
       "      <td>0</td>\n",
       "      <td>0</td>\n",
       "      <td>0</td>\n",
       "      <td>0</td>\n",
       "      <td>1</td>\n",
       "      <td>1</td>\n",
       "      <td>0</td>\n",
       "      <td>0</td>\n",
       "      <td>0</td>\n",
       "      <td>0</td>\n",
       "      <td>0</td>\n",
       "      <td>1</td>\n",
       "      <td>0</td>\n",
       "    </tr>\n",
       "    <tr>\n",
       "      <th>4</th>\n",
       "      <td>3.0</td>\n",
       "      <td>515.0</td>\n",
       "      <td>NaN</td>\n",
       "      <td>10.0</td>\n",
       "      <td>450000</td>\n",
       "      <td>0</td>\n",
       "      <td>0</td>\n",
       "      <td>0</td>\n",
       "      <td>0</td>\n",
       "      <td>0</td>\n",
       "      <td>0</td>\n",
       "      <td>0</td>\n",
       "      <td>0</td>\n",
       "      <td>0</td>\n",
       "      <td>0</td>\n",
       "      <td>0</td>\n",
       "      <td>0</td>\n",
       "      <td>0</td>\n",
       "      <td>0</td>\n",
       "      <td>0</td>\n",
       "      <td>0</td>\n",
       "      <td>0</td>\n",
       "      <td>0</td>\n",
       "      <td>0</td>\n",
       "      <td>0</td>\n",
       "      <td>0</td>\n",
       "      <td>0</td>\n",
       "      <td>0</td>\n",
       "      <td>0</td>\n",
       "      <td>1</td>\n",
       "      <td>0</td>\n",
       "      <td>0</td>\n",
       "      <td>0</td>\n",
       "      <td>0</td>\n",
       "      <td>0</td>\n",
       "      <td>0</td>\n",
       "      <td>0</td>\n",
       "      <td>0</td>\n",
       "      <td>0</td>\n",
       "      <td>0</td>\n",
       "      <td>...</td>\n",
       "      <td>0</td>\n",
       "      <td>0</td>\n",
       "      <td>0</td>\n",
       "      <td>0</td>\n",
       "      <td>0</td>\n",
       "      <td>0</td>\n",
       "      <td>0</td>\n",
       "      <td>0</td>\n",
       "      <td>0</td>\n",
       "      <td>0</td>\n",
       "      <td>0</td>\n",
       "      <td>0</td>\n",
       "      <td>0</td>\n",
       "      <td>0</td>\n",
       "      <td>0</td>\n",
       "      <td>0</td>\n",
       "      <td>0</td>\n",
       "      <td>0</td>\n",
       "      <td>0</td>\n",
       "      <td>0</td>\n",
       "      <td>0</td>\n",
       "      <td>0</td>\n",
       "      <td>0</td>\n",
       "      <td>0</td>\n",
       "      <td>0</td>\n",
       "      <td>0</td>\n",
       "      <td>0</td>\n",
       "      <td>0</td>\n",
       "      <td>0</td>\n",
       "      <td>0</td>\n",
       "      <td>0</td>\n",
       "      <td>1</td>\n",
       "      <td>0</td>\n",
       "      <td>0</td>\n",
       "      <td>0</td>\n",
       "      <td>0</td>\n",
       "      <td>0</td>\n",
       "      <td>0</td>\n",
       "      <td>1</td>\n",
       "      <td>0</td>\n",
       "    </tr>\n",
       "  </tbody>\n",
       "</table>\n",
       "<p>5 rows × 299 columns</p>\n",
       "</div>"
      ],
      "text/plain": [
       "   months_old  power  ...  fuel_type_gasoline  fuel_type_hybrid\n",
       "0       240.0  210.0  ...                   1                 0\n",
       "1        54.0  487.0  ...                   1                 0\n",
       "2       358.0  220.0  ...                   1                 0\n",
       "3        14.0  368.0  ...                   1                 0\n",
       "4         3.0  515.0  ...                   1                 0\n",
       "\n",
       "[5 rows x 299 columns]"
      ]
     },
     "execution_count": 10,
     "metadata": {
      "tags": []
     },
     "output_type": "execute_result"
    }
   ],
   "source": [
    "df_i = pd.get_dummies(\n",
    "    df[cols],\n",
    "    prefix_sep=\"_\",\n",
    "    drop_first=True,\n",
    "    columns=[\"make\", \"model\", \"sale_type\", \"gear_type\", \"fuel_type\"],\n",
    ")\n",
    "\n",
    "display(len(df_i))\n",
    "df_i.head()"
   ]
  },
  {
   "cell_type": "markdown",
   "metadata": {
    "id": "0eu6b-OOdCYC"
   },
   "source": [
    "### 030103 Limpieza de nulos\n",
    "Con la dumificación hemos eliminado los nulos en las columnas categóricas sin deshacernos de las filas. Queda algún nulo en las variables numéricas?\n"
   ]
  },
  {
   "cell_type": "code",
   "execution_count": null,
   "metadata": {
    "colab": {
     "base_uri": "https://localhost:8080/"
    },
    "id": "PTdhLHmVdVDi",
    "outputId": "b4e98a0c-310a-4173-ecbf-3d2398b45d1e"
   },
   "outputs": [
    {
     "data": {
      "text/plain": [
       "Index(['months_old', 'power', 'num_owners', 'kms', 'price', 'make_Audi',\n",
       "       'make_Bentley', 'make_Bmw', 'make_Chevrolet', 'make_Chrysler',\n",
       "       ...\n",
       "       'sale_type_new', 'sale_type_used', 'gear_type_manual',\n",
       "       'gear_type_semi-automatic', 'fuel_type_LPG', 'fuel_type_diesel',\n",
       "       'fuel_type_electric', 'fuel_type_etanol', 'fuel_type_gasoline',\n",
       "       'fuel_type_hybrid'],\n",
       "      dtype='object', length=299)"
      ]
     },
     "execution_count": 11,
     "metadata": {
      "tags": []
     },
     "output_type": "execute_result"
    }
   ],
   "source": [
    "df_i.columns"
   ]
  },
  {
   "cell_type": "code",
   "execution_count": null,
   "metadata": {
    "colab": {
     "base_uri": "https://localhost:8080/"
    },
    "id": "uKE3Tr5tcx1R",
    "outputId": "0eea98e1-b51f-4395-df84-e6d2db73bb64"
   },
   "outputs": [
    {
     "data": {
      "text/plain": [
       "months_old      274\n",
       "power           487\n",
       "num_owners    71331\n",
       "kms             864\n",
       "price             0\n",
       "dtype: int64"
      ]
     },
     "execution_count": 12,
     "metadata": {
      "tags": []
     },
     "output_type": "execute_result"
    }
   ],
   "source": [
    "df_i[[\"months_old\", \"power\", \"num_owners\", \"kms\", \"price\"]].isna().sum()"
   ]
  },
  {
   "cell_type": "code",
   "execution_count": null,
   "metadata": {
    "colab": {
     "base_uri": "https://localhost:8080/",
     "height": 270
    },
    "id": "HKQcxVgWeFna",
    "outputId": "fedb9ae4-aa04-46ef-c07a-dd1ffc7bef67"
   },
   "outputs": [
    {
     "data": {
      "text/html": [
       "<div>\n",
       "<style scoped>\n",
       "    .dataframe tbody tr th:only-of-type {\n",
       "        vertical-align: middle;\n",
       "    }\n",
       "\n",
       "    .dataframe tbody tr th {\n",
       "        vertical-align: top;\n",
       "    }\n",
       "\n",
       "    .dataframe thead th {\n",
       "        text-align: right;\n",
       "    }\n",
       "</style>\n",
       "<table border=\"1\" class=\"dataframe\">\n",
       "  <thead>\n",
       "    <tr style=\"text-align: right;\">\n",
       "      <th></th>\n",
       "      <th>months_old</th>\n",
       "      <th>power</th>\n",
       "      <th>kms</th>\n",
       "      <th>price</th>\n",
       "      <th>make_Audi</th>\n",
       "      <th>make_Bentley</th>\n",
       "      <th>make_Bmw</th>\n",
       "      <th>make_Chevrolet</th>\n",
       "      <th>make_Chrysler</th>\n",
       "      <th>make_Citroen</th>\n",
       "      <th>make_Dacia</th>\n",
       "      <th>make_Ds</th>\n",
       "      <th>make_Fiat</th>\n",
       "      <th>make_Ford</th>\n",
       "      <th>make_Honda</th>\n",
       "      <th>make_Hyundai</th>\n",
       "      <th>make_Iveco</th>\n",
       "      <th>make_Jaguar</th>\n",
       "      <th>make_Jeep</th>\n",
       "      <th>make_Kia</th>\n",
       "      <th>make_Land</th>\n",
       "      <th>make_Mazda</th>\n",
       "      <th>make_Mercedes-Benz</th>\n",
       "      <th>make_Mini</th>\n",
       "      <th>make_Mitsubishi</th>\n",
       "      <th>make_Nissan</th>\n",
       "      <th>make_Opel</th>\n",
       "      <th>make_Peugeot</th>\n",
       "      <th>make_Porsche</th>\n",
       "      <th>make_Renault</th>\n",
       "      <th>make_Saab</th>\n",
       "      <th>make_Seat</th>\n",
       "      <th>make_Skoda</th>\n",
       "      <th>make_Smart</th>\n",
       "      <th>make_Ssangyong</th>\n",
       "      <th>make_Suzuki</th>\n",
       "      <th>make_Toyota</th>\n",
       "      <th>make_Volkswagen</th>\n",
       "      <th>make_Volvo</th>\n",
       "      <th>model_118</th>\n",
       "      <th>...</th>\n",
       "      <th>model_V60</th>\n",
       "      <th>model_Vectra</th>\n",
       "      <th>model_Verso</th>\n",
       "      <th>model_Viano</th>\n",
       "      <th>model_Vito</th>\n",
       "      <th>model_Vivaro</th>\n",
       "      <th>model_Voyager</th>\n",
       "      <th>model_Wrangler</th>\n",
       "      <th>model_X-Trail</th>\n",
       "      <th>model_X1</th>\n",
       "      <th>model_X3</th>\n",
       "      <th>model_X4</th>\n",
       "      <th>model_X5</th>\n",
       "      <th>model_X6</th>\n",
       "      <th>model_Xc60</th>\n",
       "      <th>model_Xc90</th>\n",
       "      <th>model_Xe</th>\n",
       "      <th>model_Xf</th>\n",
       "      <th>model_Xsara</th>\n",
       "      <th>model_XsaraPicasso</th>\n",
       "      <th>model_Yaris</th>\n",
       "      <th>model_Z4</th>\n",
       "      <th>model_Zafira</th>\n",
       "      <th>model_ZafiraTourer</th>\n",
       "      <th>sale_type_classic</th>\n",
       "      <th>sale_type_demo</th>\n",
       "      <th>sale_type_km_0</th>\n",
       "      <th>sale_type_new</th>\n",
       "      <th>sale_type_used</th>\n",
       "      <th>gear_type_manual</th>\n",
       "      <th>gear_type_semi-automatic</th>\n",
       "      <th>fuel_type_LPG</th>\n",
       "      <th>fuel_type_diesel</th>\n",
       "      <th>fuel_type_electric</th>\n",
       "      <th>fuel_type_etanol</th>\n",
       "      <th>fuel_type_gasoline</th>\n",
       "      <th>fuel_type_hybrid</th>\n",
       "      <th>num_owners_2.0</th>\n",
       "      <th>num_owners_3+</th>\n",
       "      <th>num_owners_nan</th>\n",
       "    </tr>\n",
       "  </thead>\n",
       "  <tbody>\n",
       "    <tr>\n",
       "      <th>0</th>\n",
       "      <td>240.0</td>\n",
       "      <td>210.0</td>\n",
       "      <td>202000.0</td>\n",
       "      <td>999999</td>\n",
       "      <td>0</td>\n",
       "      <td>0</td>\n",
       "      <td>0</td>\n",
       "      <td>0</td>\n",
       "      <td>0</td>\n",
       "      <td>0</td>\n",
       "      <td>0</td>\n",
       "      <td>0</td>\n",
       "      <td>0</td>\n",
       "      <td>0</td>\n",
       "      <td>0</td>\n",
       "      <td>0</td>\n",
       "      <td>0</td>\n",
       "      <td>0</td>\n",
       "      <td>0</td>\n",
       "      <td>0</td>\n",
       "      <td>0</td>\n",
       "      <td>0</td>\n",
       "      <td>0</td>\n",
       "      <td>0</td>\n",
       "      <td>0</td>\n",
       "      <td>0</td>\n",
       "      <td>0</td>\n",
       "      <td>0</td>\n",
       "      <td>1</td>\n",
       "      <td>0</td>\n",
       "      <td>0</td>\n",
       "      <td>0</td>\n",
       "      <td>0</td>\n",
       "      <td>0</td>\n",
       "      <td>0</td>\n",
       "      <td>0</td>\n",
       "      <td>0</td>\n",
       "      <td>0</td>\n",
       "      <td>0</td>\n",
       "      <td>0</td>\n",
       "      <td>...</td>\n",
       "      <td>0</td>\n",
       "      <td>0</td>\n",
       "      <td>0</td>\n",
       "      <td>0</td>\n",
       "      <td>0</td>\n",
       "      <td>0</td>\n",
       "      <td>0</td>\n",
       "      <td>0</td>\n",
       "      <td>0</td>\n",
       "      <td>0</td>\n",
       "      <td>0</td>\n",
       "      <td>0</td>\n",
       "      <td>0</td>\n",
       "      <td>0</td>\n",
       "      <td>0</td>\n",
       "      <td>0</td>\n",
       "      <td>0</td>\n",
       "      <td>0</td>\n",
       "      <td>0</td>\n",
       "      <td>0</td>\n",
       "      <td>0</td>\n",
       "      <td>0</td>\n",
       "      <td>0</td>\n",
       "      <td>0</td>\n",
       "      <td>1</td>\n",
       "      <td>0</td>\n",
       "      <td>0</td>\n",
       "      <td>0</td>\n",
       "      <td>0</td>\n",
       "      <td>1</td>\n",
       "      <td>0</td>\n",
       "      <td>0</td>\n",
       "      <td>0</td>\n",
       "      <td>0</td>\n",
       "      <td>0</td>\n",
       "      <td>1</td>\n",
       "      <td>0</td>\n",
       "      <td>0</td>\n",
       "      <td>1</td>\n",
       "      <td>0</td>\n",
       "    </tr>\n",
       "    <tr>\n",
       "      <th>1</th>\n",
       "      <td>54.0</td>\n",
       "      <td>487.0</td>\n",
       "      <td>30000.0</td>\n",
       "      <td>685000</td>\n",
       "      <td>0</td>\n",
       "      <td>0</td>\n",
       "      <td>0</td>\n",
       "      <td>0</td>\n",
       "      <td>0</td>\n",
       "      <td>0</td>\n",
       "      <td>0</td>\n",
       "      <td>0</td>\n",
       "      <td>0</td>\n",
       "      <td>1</td>\n",
       "      <td>0</td>\n",
       "      <td>0</td>\n",
       "      <td>0</td>\n",
       "      <td>0</td>\n",
       "      <td>0</td>\n",
       "      <td>0</td>\n",
       "      <td>0</td>\n",
       "      <td>0</td>\n",
       "      <td>0</td>\n",
       "      <td>0</td>\n",
       "      <td>0</td>\n",
       "      <td>0</td>\n",
       "      <td>0</td>\n",
       "      <td>0</td>\n",
       "      <td>0</td>\n",
       "      <td>0</td>\n",
       "      <td>0</td>\n",
       "      <td>0</td>\n",
       "      <td>0</td>\n",
       "      <td>0</td>\n",
       "      <td>0</td>\n",
       "      <td>0</td>\n",
       "      <td>0</td>\n",
       "      <td>0</td>\n",
       "      <td>0</td>\n",
       "      <td>0</td>\n",
       "      <td>...</td>\n",
       "      <td>0</td>\n",
       "      <td>0</td>\n",
       "      <td>0</td>\n",
       "      <td>0</td>\n",
       "      <td>0</td>\n",
       "      <td>0</td>\n",
       "      <td>0</td>\n",
       "      <td>0</td>\n",
       "      <td>0</td>\n",
       "      <td>0</td>\n",
       "      <td>0</td>\n",
       "      <td>0</td>\n",
       "      <td>0</td>\n",
       "      <td>0</td>\n",
       "      <td>0</td>\n",
       "      <td>0</td>\n",
       "      <td>0</td>\n",
       "      <td>0</td>\n",
       "      <td>0</td>\n",
       "      <td>0</td>\n",
       "      <td>0</td>\n",
       "      <td>0</td>\n",
       "      <td>0</td>\n",
       "      <td>0</td>\n",
       "      <td>0</td>\n",
       "      <td>0</td>\n",
       "      <td>0</td>\n",
       "      <td>0</td>\n",
       "      <td>1</td>\n",
       "      <td>1</td>\n",
       "      <td>0</td>\n",
       "      <td>0</td>\n",
       "      <td>0</td>\n",
       "      <td>0</td>\n",
       "      <td>0</td>\n",
       "      <td>1</td>\n",
       "      <td>0</td>\n",
       "      <td>0</td>\n",
       "      <td>0</td>\n",
       "      <td>0</td>\n",
       "    </tr>\n",
       "    <tr>\n",
       "      <th>2</th>\n",
       "      <td>358.0</td>\n",
       "      <td>220.0</td>\n",
       "      <td>56300.0</td>\n",
       "      <td>555555</td>\n",
       "      <td>0</td>\n",
       "      <td>0</td>\n",
       "      <td>0</td>\n",
       "      <td>0</td>\n",
       "      <td>0</td>\n",
       "      <td>0</td>\n",
       "      <td>0</td>\n",
       "      <td>0</td>\n",
       "      <td>0</td>\n",
       "      <td>0</td>\n",
       "      <td>0</td>\n",
       "      <td>0</td>\n",
       "      <td>0</td>\n",
       "      <td>0</td>\n",
       "      <td>0</td>\n",
       "      <td>0</td>\n",
       "      <td>0</td>\n",
       "      <td>0</td>\n",
       "      <td>0</td>\n",
       "      <td>0</td>\n",
       "      <td>0</td>\n",
       "      <td>0</td>\n",
       "      <td>0</td>\n",
       "      <td>0</td>\n",
       "      <td>1</td>\n",
       "      <td>0</td>\n",
       "      <td>0</td>\n",
       "      <td>0</td>\n",
       "      <td>0</td>\n",
       "      <td>0</td>\n",
       "      <td>0</td>\n",
       "      <td>0</td>\n",
       "      <td>0</td>\n",
       "      <td>0</td>\n",
       "      <td>0</td>\n",
       "      <td>0</td>\n",
       "      <td>...</td>\n",
       "      <td>0</td>\n",
       "      <td>0</td>\n",
       "      <td>0</td>\n",
       "      <td>0</td>\n",
       "      <td>0</td>\n",
       "      <td>0</td>\n",
       "      <td>0</td>\n",
       "      <td>0</td>\n",
       "      <td>0</td>\n",
       "      <td>0</td>\n",
       "      <td>0</td>\n",
       "      <td>0</td>\n",
       "      <td>0</td>\n",
       "      <td>0</td>\n",
       "      <td>0</td>\n",
       "      <td>0</td>\n",
       "      <td>0</td>\n",
       "      <td>0</td>\n",
       "      <td>0</td>\n",
       "      <td>0</td>\n",
       "      <td>0</td>\n",
       "      <td>0</td>\n",
       "      <td>0</td>\n",
       "      <td>0</td>\n",
       "      <td>0</td>\n",
       "      <td>0</td>\n",
       "      <td>0</td>\n",
       "      <td>0</td>\n",
       "      <td>1</td>\n",
       "      <td>1</td>\n",
       "      <td>0</td>\n",
       "      <td>0</td>\n",
       "      <td>0</td>\n",
       "      <td>0</td>\n",
       "      <td>0</td>\n",
       "      <td>1</td>\n",
       "      <td>0</td>\n",
       "      <td>0</td>\n",
       "      <td>0</td>\n",
       "      <td>1</td>\n",
       "    </tr>\n",
       "    <tr>\n",
       "      <th>3</th>\n",
       "      <td>14.0</td>\n",
       "      <td>368.0</td>\n",
       "      <td>2800.0</td>\n",
       "      <td>470000</td>\n",
       "      <td>0</td>\n",
       "      <td>0</td>\n",
       "      <td>0</td>\n",
       "      <td>0</td>\n",
       "      <td>0</td>\n",
       "      <td>0</td>\n",
       "      <td>0</td>\n",
       "      <td>0</td>\n",
       "      <td>0</td>\n",
       "      <td>0</td>\n",
       "      <td>0</td>\n",
       "      <td>0</td>\n",
       "      <td>0</td>\n",
       "      <td>0</td>\n",
       "      <td>0</td>\n",
       "      <td>0</td>\n",
       "      <td>0</td>\n",
       "      <td>0</td>\n",
       "      <td>0</td>\n",
       "      <td>0</td>\n",
       "      <td>0</td>\n",
       "      <td>0</td>\n",
       "      <td>0</td>\n",
       "      <td>0</td>\n",
       "      <td>1</td>\n",
       "      <td>0</td>\n",
       "      <td>0</td>\n",
       "      <td>0</td>\n",
       "      <td>0</td>\n",
       "      <td>0</td>\n",
       "      <td>0</td>\n",
       "      <td>0</td>\n",
       "      <td>0</td>\n",
       "      <td>0</td>\n",
       "      <td>0</td>\n",
       "      <td>0</td>\n",
       "      <td>...</td>\n",
       "      <td>0</td>\n",
       "      <td>0</td>\n",
       "      <td>0</td>\n",
       "      <td>0</td>\n",
       "      <td>0</td>\n",
       "      <td>0</td>\n",
       "      <td>0</td>\n",
       "      <td>0</td>\n",
       "      <td>0</td>\n",
       "      <td>0</td>\n",
       "      <td>0</td>\n",
       "      <td>0</td>\n",
       "      <td>0</td>\n",
       "      <td>0</td>\n",
       "      <td>0</td>\n",
       "      <td>0</td>\n",
       "      <td>0</td>\n",
       "      <td>0</td>\n",
       "      <td>0</td>\n",
       "      <td>0</td>\n",
       "      <td>0</td>\n",
       "      <td>0</td>\n",
       "      <td>0</td>\n",
       "      <td>0</td>\n",
       "      <td>0</td>\n",
       "      <td>0</td>\n",
       "      <td>0</td>\n",
       "      <td>0</td>\n",
       "      <td>1</td>\n",
       "      <td>1</td>\n",
       "      <td>0</td>\n",
       "      <td>0</td>\n",
       "      <td>0</td>\n",
       "      <td>0</td>\n",
       "      <td>0</td>\n",
       "      <td>1</td>\n",
       "      <td>0</td>\n",
       "      <td>0</td>\n",
       "      <td>0</td>\n",
       "      <td>0</td>\n",
       "    </tr>\n",
       "    <tr>\n",
       "      <th>4</th>\n",
       "      <td>3.0</td>\n",
       "      <td>515.0</td>\n",
       "      <td>10.0</td>\n",
       "      <td>450000</td>\n",
       "      <td>0</td>\n",
       "      <td>0</td>\n",
       "      <td>0</td>\n",
       "      <td>0</td>\n",
       "      <td>0</td>\n",
       "      <td>0</td>\n",
       "      <td>0</td>\n",
       "      <td>0</td>\n",
       "      <td>0</td>\n",
       "      <td>0</td>\n",
       "      <td>0</td>\n",
       "      <td>0</td>\n",
       "      <td>0</td>\n",
       "      <td>0</td>\n",
       "      <td>0</td>\n",
       "      <td>0</td>\n",
       "      <td>0</td>\n",
       "      <td>0</td>\n",
       "      <td>0</td>\n",
       "      <td>0</td>\n",
       "      <td>0</td>\n",
       "      <td>0</td>\n",
       "      <td>0</td>\n",
       "      <td>0</td>\n",
       "      <td>1</td>\n",
       "      <td>0</td>\n",
       "      <td>0</td>\n",
       "      <td>0</td>\n",
       "      <td>0</td>\n",
       "      <td>0</td>\n",
       "      <td>0</td>\n",
       "      <td>0</td>\n",
       "      <td>0</td>\n",
       "      <td>0</td>\n",
       "      <td>0</td>\n",
       "      <td>0</td>\n",
       "      <td>...</td>\n",
       "      <td>0</td>\n",
       "      <td>0</td>\n",
       "      <td>0</td>\n",
       "      <td>0</td>\n",
       "      <td>0</td>\n",
       "      <td>0</td>\n",
       "      <td>0</td>\n",
       "      <td>0</td>\n",
       "      <td>0</td>\n",
       "      <td>0</td>\n",
       "      <td>0</td>\n",
       "      <td>0</td>\n",
       "      <td>0</td>\n",
       "      <td>0</td>\n",
       "      <td>0</td>\n",
       "      <td>0</td>\n",
       "      <td>0</td>\n",
       "      <td>0</td>\n",
       "      <td>0</td>\n",
       "      <td>0</td>\n",
       "      <td>0</td>\n",
       "      <td>0</td>\n",
       "      <td>0</td>\n",
       "      <td>0</td>\n",
       "      <td>0</td>\n",
       "      <td>0</td>\n",
       "      <td>0</td>\n",
       "      <td>0</td>\n",
       "      <td>1</td>\n",
       "      <td>0</td>\n",
       "      <td>0</td>\n",
       "      <td>0</td>\n",
       "      <td>0</td>\n",
       "      <td>0</td>\n",
       "      <td>0</td>\n",
       "      <td>1</td>\n",
       "      <td>0</td>\n",
       "      <td>0</td>\n",
       "      <td>0</td>\n",
       "      <td>1</td>\n",
       "    </tr>\n",
       "  </tbody>\n",
       "</table>\n",
       "<p>5 rows × 301 columns</p>\n",
       "</div>"
      ],
      "text/plain": [
       "   months_old  power       kms  ...  num_owners_2.0  num_owners_3+  num_owners_nan\n",
       "0       240.0  210.0  202000.0  ...               0              1               0\n",
       "1        54.0  487.0   30000.0  ...               0              0               0\n",
       "2       358.0  220.0   56300.0  ...               0              0               1\n",
       "3        14.0  368.0    2800.0  ...               0              0               0\n",
       "4         3.0  515.0      10.0  ...               0              0               1\n",
       "\n",
       "[5 rows x 301 columns]"
      ]
     },
     "execution_count": 13,
     "metadata": {
      "tags": []
     },
     "output_type": "execute_result"
    }
   ],
   "source": [
    "# Hay muchos nulos en num_owners\n",
    "# Quizás esto tiene que ver con origenes del coche desconocidos?\n",
    "# Vamos a limpiar la variable en 1, 2, 3+, nulo y la utilizamos como categórica\n",
    "filtro_muchos_owners = df_i[\"num_owners\"] >= 3\n",
    "df_i.loc[filtro_muchos_owners, \"num_owners\"] = \"3+\"\n",
    "df_i = pd.get_dummies(\n",
    "    df_i, prefix_sep=\"_\", dummy_na=True, drop_first=True, columns=[\"num_owners\"]\n",
    ")\n",
    "df_i.head()"
   ]
  },
  {
   "cell_type": "code",
   "execution_count": null,
   "metadata": {
    "colab": {
     "base_uri": "https://localhost:8080/"
    },
    "id": "4wa3pvtGgP9D",
    "outputId": "e4da2707-6bc6-4f31-e061-1bded8a7b010"
   },
   "outputs": [
    {
     "data": {
      "text/plain": [
       "months_old    274\n",
       "power         487\n",
       "kms           864\n",
       "price           0\n",
       "dtype: int64"
      ]
     },
     "execution_count": 14,
     "metadata": {
      "tags": []
     },
     "output_type": "execute_result"
    }
   ],
   "source": [
    "df_i[[\"months_old\", \"power\", \"kms\", \"price\"]].isna().sum()"
   ]
  },
  {
   "cell_type": "code",
   "execution_count": null,
   "metadata": {
    "id": "A6fBmkLdhUH7"
   },
   "outputs": [],
   "source": [
    "for col in [\"months_old\", \"power\", \"kms\"]:\n",
    "    df_i[col] = df_i[col].fillna(df_i[col].median())"
   ]
  },
  {
   "cell_type": "code",
   "execution_count": null,
   "metadata": {
    "colab": {
     "base_uri": "https://localhost:8080/"
    },
    "id": "kFtfx3TXhfKR",
    "outputId": "85f4a208-c31f-4ac5-8e73-1a00a8519623"
   },
   "outputs": [
    {
     "data": {
      "text/plain": [
       "months_old            0\n",
       "power                 0\n",
       "kms                   0\n",
       "price                 0\n",
       "make_Audi             0\n",
       "                     ..\n",
       "fuel_type_gasoline    0\n",
       "fuel_type_hybrid      0\n",
       "num_owners_2.0        0\n",
       "num_owners_3+         0\n",
       "num_owners_nan        0\n",
       "Length: 301, dtype: int64"
      ]
     },
     "execution_count": 16,
     "metadata": {
      "tags": []
     },
     "output_type": "execute_result"
    }
   ],
   "source": [
    "df_i.isna().sum()"
   ]
  },
  {
   "cell_type": "markdown",
   "metadata": {
    "id": "-NQpz3yMhlP8"
   },
   "source": [
    "##0302 Train - test split\n",
    "Separamos el set de datos en dos utilizando [train_test_split](https://scikit-learn.org/stable/modules/generated/sklearn.model_selection.train_test_split.html).\n"
   ]
  },
  {
   "cell_type": "code",
   "execution_count": null,
   "metadata": {
    "colab": {
     "base_uri": "https://localhost:8080/"
    },
    "id": "4RY1xSE0ibVy",
    "outputId": "4394b08d-b31e-4dda-ec06-ce7b3d06d3c3"
   },
   "outputs": [
    {
     "data": {
      "text/plain": [
       "(93991, 93991)"
      ]
     },
     "execution_count": 17,
     "metadata": {
      "tags": []
     },
     "output_type": "execute_result"
    }
   ],
   "source": [
    "X = df_i.drop(\"price\", axis=1)\n",
    "y = df_i[\"price\"]\n",
    "\n",
    "len(X), len(y)"
   ]
  },
  {
   "cell_type": "code",
   "execution_count": null,
   "metadata": {
    "id": "ABXKI_CniEME"
   },
   "outputs": [],
   "source": [
    "from sklearn.model_selection import train_test_split\n",
    "\n",
    "X_train, X_test, y_train, y_test = train_test_split(\n",
    "    X, y, test_size=0.33, random_state=42\n",
    ")"
   ]
  },
  {
   "cell_type": "markdown",
   "metadata": {
    "id": "oGzX2Ku3jQv5"
   },
   "source": [
    "## 0303 Entrenamos el árbol de decisión\n",
    "Sobre el set de entrenamiento, comprobamos el modelo sobre el set de test.\n",
    "https://scikit-learn.org/stable/modules/generated/sklearn.tree.DecisionTreeRegressor.html#sklearn.tree.DecisionTreeRegressor"
   ]
  },
  {
   "cell_type": "code",
   "execution_count": null,
   "metadata": {
    "colab": {
     "base_uri": "https://localhost:8080/"
    },
    "id": "y12bT7TSj9gq",
    "outputId": "c491100a-2e03-410b-9e01-0fa3ad4c8358"
   },
   "outputs": [
    {
     "name": "stdout",
     "output_type": "stream",
     "text": [
      "RMSE en set de entrenamiento : 4212.870964705138\n",
      "RMSE en set de test : 5617.484313904153\n"
     ]
    }
   ],
   "source": [
    "# Inicializo un árbol\n",
    "modelo = tree.DecisionTreeRegressor(max_depth=10)\n",
    "# Entreno el árbol con el set de entrenamiento\n",
    "modelo = modelo.fit(X=X_train, y=y_train)\n",
    "# Uso el árbol para predecir sobre el dataset de entrenamiento\n",
    "y_pred_train = modelo.predict(X_train)\n",
    "# Uso el árbol para predecir sobre el dataset de test\n",
    "y_pred_test = modelo.predict(X_test)\n",
    "# Cómo de buena es la predicción?\n",
    "print(\n",
    "    \"RMSE en set de entrenamiento :\",\n",
    "    mean_squared_error(y_train, y_pred_train, squared=False),\n",
    ")\n",
    "print(\"RMSE en set de test :\", mean_squared_error(y_test, y_pred_test, squared=False))"
   ]
  },
  {
   "cell_type": "code",
   "execution_count": null,
   "metadata": {
    "colab": {
     "base_uri": "https://localhost:8080/"
    },
    "id": "d-eKMEkpltgt",
    "outputId": "b8bedbe3-50aa-472f-ee1f-82d21a83a61b"
   },
   "outputs": [
    {
     "name": "stdout",
     "output_type": "stream",
     "text": [
      "RMSE en set de entrenamiento : 7140.0614444012435\n",
      "RMSE en set de test : 7299.206539578955\n"
     ]
    }
   ],
   "source": [
    "# Inicializo un árbol\n",
    "modelo = tree.DecisionTreeRegressor(max_depth=5)\n",
    "# Entreno el árbol con el set de entrenamiento\n",
    "modelo = modelo.fit(X=X_train, y=y_train)\n",
    "# Uso el árbol para predecir sobre el dataset de entrenamiento\n",
    "y_pred_train = modelo.predict(X_train)\n",
    "# Uso el árbol para predecir sobre el dataset de test\n",
    "y_pred_test = modelo.predict(X_test)\n",
    "# Cómo de buena es la predicción?\n",
    "print(\n",
    "    \"RMSE en set de entrenamiento :\",\n",
    "    mean_squared_error(y_train, y_pred_train, squared=False),\n",
    ")\n",
    "print(\"RMSE en set de test :\", mean_squared_error(y_test, y_pred_test, squared=False))"
   ]
  },
  {
   "cell_type": "code",
   "execution_count": null,
   "metadata": {
    "colab": {
     "base_uri": "https://localhost:8080/"
    },
    "id": "lt-I-N3Glwwp",
    "outputId": "1207b41a-d264-4373-f7b5-8347b243498b"
   },
   "outputs": [
    {
     "name": "stdout",
     "output_type": "stream",
     "text": [
      "RMSE en set de entrenamiento : 375.8288396572212\n",
      "RMSE en set de test : 5768.494114957268\n"
     ]
    }
   ],
   "source": [
    "# Inicializo un árbol\n",
    "modelo = tree.DecisionTreeRegressor(max_depth=50)\n",
    "# Entreno el árbol con el set de entrenamiento\n",
    "modelo = modelo.fit(X=X_train, y=y_train)\n",
    "# Uso el árbol para predecir sobre el dataset de entrenamiento\n",
    "y_pred_train = modelo.predict(X_train)\n",
    "# Uso el árbol para predecir sobre el dataset de test\n",
    "y_pred_test = modelo.predict(X_test)\n",
    "# Cómo de buena es la predicción?\n",
    "print(\n",
    "    \"RMSE en set de entrenamiento :\",\n",
    "    mean_squared_error(y_train, y_pred_train, squared=False),\n",
    ")\n",
    "print(\"RMSE en set de test :\", mean_squared_error(y_test, y_pred_test, squared=False))"
   ]
  },
  {
   "cell_type": "code",
   "execution_count": null,
   "metadata": {
    "id": "orWBwiPxm5Oi"
   },
   "outputs": [],
   "source": [
    "def entrenar_modelo_y_predecir(modelo):\n",
    "    # Entreno el árbol con el set de entrenamiento\n",
    "    modelo = modelo.fit(X=X_train, y=y_train)\n",
    "    # Uso el árbol para predecir sobre el dataset de entrenamiento\n",
    "    y_pred_train = modelo.predict(X_train)\n",
    "    # Uso el árbol para predecir sobre el dataset de test\n",
    "    y_pred_test = modelo.predict(X_test)\n",
    "    # Cómo de buena es la predicción?\n",
    "    print(\n",
    "        \"RMSE en set de entrenamiento :\",\n",
    "        mean_squared_error(y_train, y_pred_train, squared=False),\n",
    "    )\n",
    "    print(\n",
    "        \"RMSE en set de test :\", mean_squared_error(y_test, y_pred_test, squared=False)\n",
    "    )"
   ]
  },
  {
   "cell_type": "code",
   "execution_count": null,
   "metadata": {
    "colab": {
     "base_uri": "https://localhost:8080/"
    },
    "id": "MY1urTMJnI7S",
    "outputId": "4ae68ff3-a2e2-4f87-82e8-f915582300b7"
   },
   "outputs": [
    {
     "name": "stdout",
     "output_type": "stream",
     "text": [
      "RMSE en set de entrenamiento : 1126.7576194805622\n",
      "RMSE en set de test : 5637.3468823076655\n"
     ]
    }
   ],
   "source": [
    "# Inicializo un árbol\n",
    "modelo = tree.DecisionTreeRegressor(max_depth=25)\n",
    "# Entrenamos y predecimos con dicho modelo\n",
    "entrenar_modelo_y_predecir(modelo)"
   ]
  },
  {
   "cell_type": "markdown",
   "metadata": {
    "id": "psH9u3Gkl4hr"
   },
   "source": [
    "## 0304 Probamos medidas contra el overfitting"
   ]
  },
  {
   "cell_type": "markdown",
   "metadata": {
    "id": "VOKrcoHimAjh"
   },
   "source": [
    "### 030401 min_samples_split\n",
    "Tamaño muestral mínimo para permitir una partición."
   ]
  },
  {
   "cell_type": "code",
   "execution_count": null,
   "metadata": {
    "colab": {
     "base_uri": "https://localhost:8080/"
    },
    "id": "DbyvemCimZ7Z",
    "outputId": "2be4c050-d6bf-4929-fbc3-f39f5de25234"
   },
   "outputs": [
    {
     "name": "stdout",
     "output_type": "stream",
     "text": [
      "RMSE en set de entrenamiento : 5767.079011141262\n",
      "RMSE en set de test : 5809.845691254969\n"
     ]
    }
   ],
   "source": [
    "# Inicializo un árbol\n",
    "modelo = tree.DecisionTreeRegressor(max_depth=10, min_samples_split=20)\n",
    "# Entrenamos y predecimos con dicho modelo\n",
    "entrenar_modelo_y_predecir(modelo)"
   ]
  },
  {
   "cell_type": "code",
   "execution_count": null,
   "metadata": {
    "colab": {
     "base_uri": "https://localhost:8080/"
    },
    "id": "IHtM6hxVmpvS",
    "outputId": "11ea750f-b85b-4690-e61b-59020930e5e8"
   },
   "outputs": [
    {
     "name": "stdout",
     "output_type": "stream",
     "text": [
      "RMSE en set de entrenamiento : 5157.930973566497\n",
      "RMSE en set de test : 5547.623325009855\n"
     ]
    }
   ],
   "source": [
    "# Inicializo un árbol\n",
    "modelo = tree.DecisionTreeRegressor(max_depth=15, min_samples_split=20)\n",
    "# Entrenamos y predecimos con dicho modelo\n",
    "entrenar_modelo_y_predecir(modelo)"
   ]
  },
  {
   "cell_type": "code",
   "execution_count": null,
   "metadata": {
    "colab": {
     "base_uri": "https://localhost:8080/"
    },
    "id": "PM_oDEfWmuzL",
    "outputId": "f3688787-3a19-43b9-963f-6996e110a474"
   },
   "outputs": [
    {
     "name": "stdout",
     "output_type": "stream",
     "text": [
      "RMSE en set de entrenamiento : 5233.351078575654\n",
      "RMSE en set de test : 5517.895840048824\n"
     ]
    }
   ],
   "source": [
    "# Inicializo un árbol\n",
    "modelo = tree.DecisionTreeRegressor(max_depth=15, min_samples_split=25)\n",
    "# Entrenamos y predecimos con dicho modelo\n",
    "entrenar_modelo_y_predecir(modelo)"
   ]
  },
  {
   "cell_type": "markdown",
   "metadata": {
    "id": "1WHNSaNfmzDL"
   },
   "source": [
    "### 030402 min_samples_leaf\n",
    "Tamaño muestral mínimo en una hoja."
   ]
  },
  {
   "cell_type": "code",
   "execution_count": null,
   "metadata": {
    "colab": {
     "base_uri": "https://localhost:8080/"
    },
    "id": "yzpo8en2nx8j",
    "outputId": "f605b5b4-aeae-4c47-e405-ed8a1e176d65"
   },
   "outputs": [
    {
     "name": "stdout",
     "output_type": "stream",
     "text": [
      "RMSE en set de entrenamiento : 6399.307655212139\n",
      "RMSE en set de test : 5866.712812899478\n"
     ]
    }
   ],
   "source": [
    "# Inicializo un árbol\n",
    "modelo = tree.DecisionTreeRegressor(\n",
    "    max_depth=15, min_samples_split=25, min_samples_leaf=10\n",
    ")\n",
    "# Entrenamos y predecimos con dicho modelo\n",
    "entrenar_modelo_y_predecir(modelo)"
   ]
  },
  {
   "cell_type": "code",
   "execution_count": null,
   "metadata": {
    "colab": {
     "base_uri": "https://localhost:8080/"
    },
    "id": "mvKhW2ANoG_T",
    "outputId": "7865c18e-2a3f-48ac-c340-74f4eceaef11"
   },
   "outputs": [
    {
     "name": "stdout",
     "output_type": "stream",
     "text": [
      "RMSE en set de entrenamiento : 5467.303845297351\n",
      "RMSE en set de test : 5775.201237733983\n"
     ]
    }
   ],
   "source": [
    "# Inicializo un árbol\n",
    "modelo = tree.DecisionTreeRegressor(\n",
    "    max_depth=20, min_samples_split=20, min_samples_leaf=2\n",
    ")\n",
    "# Entrenamos y predecimos con dicho modelo\n",
    "entrenar_modelo_y_predecir(modelo)"
   ]
  },
  {
   "cell_type": "markdown",
   "metadata": {
    "id": "ffxLpFnZo0zF"
   },
   "source": [
    "### 030402 min_impurity_decrease\n",
    "Mínimo descenso de impuridad."
   ]
  },
  {
   "cell_type": "code",
   "execution_count": null,
   "metadata": {
    "colab": {
     "base_uri": "https://localhost:8080/"
    },
    "id": "FADakO2_pHsi",
    "outputId": "5485c723-f6bf-4b94-e9e9-bb9448c529d9"
   },
   "outputs": [
    {
     "name": "stdout",
     "output_type": "stream",
     "text": [
      "RMSE en set de entrenamiento : 5233.351078575654\n",
      "RMSE en set de test : 5521.5297779704415\n"
     ]
    }
   ],
   "source": [
    "# Inicializo un árbol\n",
    "modelo = tree.DecisionTreeRegressor(\n",
    "    max_depth=15, min_samples_split=25, min_impurity_decrease=0.25\n",
    ")\n",
    "# Entrenamos y predecimos con dicho modelo\n",
    "entrenar_modelo_y_predecir(modelo)"
   ]
  },
  {
   "cell_type": "markdown",
   "metadata": {
    "id": "V66-xgckYMQs"
   },
   "source": [
    "# 06 EJERCICIO TITANIC\n",
    "Recordais el dataset del Titanic?\n",
    "\n",
    "Vamos a resolver este problema teniendo en cuenta todo lo que sabemos ya. El objetivo es crear una árbol de decisión que prediga si un pasajero falleció o no (pasajeros cuyos datos no conocemos todavía).\n",
    "\n",
    "Toma las medidas oportunas para que tu modelo sea lo más preciso posible sin caer en overfitting."
   ]
  },
  {
   "cell_type": "markdown",
   "metadata": {
    "id": "EDiMGl7xOm6o"
   },
   "source": [
    "## 0601 Importa el dataset\n",
    "Puedes encontrarlo en mi github. Este es el link al archivo raw: https://raw.githubusercontent.com/astrojuanlu/the-valley-mds-arboles/main/data/titanic.csv.\n",
    "\n",
    "Importa los datos en un dataframe llamado dataframe **df_titanic**."
   ]
  },
  {
   "cell_type": "code",
   "execution_count": null,
   "metadata": {
    "colab": {
     "base_uri": "https://localhost:8080/",
     "height": 145
    },
    "id": "hYiZbvGgYGzt",
    "outputId": "1da19bd6-0b26-4caa-a728-e9cbcdbbccf5"
   },
   "outputs": [
    {
     "data": {
      "text/html": [
       "<div>\n",
       "<style scoped>\n",
       "    .dataframe tbody tr th:only-of-type {\n",
       "        vertical-align: middle;\n",
       "    }\n",
       "\n",
       "    .dataframe tbody tr th {\n",
       "        vertical-align: top;\n",
       "    }\n",
       "\n",
       "    .dataframe thead th {\n",
       "        text-align: right;\n",
       "    }\n",
       "</style>\n",
       "<table border=\"1\" class=\"dataframe\">\n",
       "  <thead>\n",
       "    <tr style=\"text-align: right;\">\n",
       "      <th></th>\n",
       "      <th>PassengerId</th>\n",
       "      <th>Survived</th>\n",
       "      <th>Pclass</th>\n",
       "      <th>Name</th>\n",
       "      <th>Sex</th>\n",
       "      <th>Age</th>\n",
       "      <th>SibSp</th>\n",
       "      <th>Parch</th>\n",
       "      <th>Ticket</th>\n",
       "      <th>Fare</th>\n",
       "      <th>Cabin</th>\n",
       "      <th>Embarked</th>\n",
       "    </tr>\n",
       "  </thead>\n",
       "  <tbody>\n",
       "    <tr>\n",
       "      <th>0</th>\n",
       "      <td>1</td>\n",
       "      <td>0</td>\n",
       "      <td>3</td>\n",
       "      <td>Braund, Mr. Owen Harris</td>\n",
       "      <td>male</td>\n",
       "      <td>22.0</td>\n",
       "      <td>1</td>\n",
       "      <td>0</td>\n",
       "      <td>A/5 21171</td>\n",
       "      <td>7.2500</td>\n",
       "      <td>NaN</td>\n",
       "      <td>S</td>\n",
       "    </tr>\n",
       "    <tr>\n",
       "      <th>1</th>\n",
       "      <td>2</td>\n",
       "      <td>1</td>\n",
       "      <td>1</td>\n",
       "      <td>Cumings, Mrs. John Bradley (Florence Briggs Th...</td>\n",
       "      <td>female</td>\n",
       "      <td>38.0</td>\n",
       "      <td>1</td>\n",
       "      <td>0</td>\n",
       "      <td>PC 17599</td>\n",
       "      <td>71.2833</td>\n",
       "      <td>C85</td>\n",
       "      <td>C</td>\n",
       "    </tr>\n",
       "  </tbody>\n",
       "</table>\n",
       "</div>"
      ],
      "text/plain": [
       "   PassengerId  Survived  Pclass  ...     Fare Cabin  Embarked\n",
       "0            1         0       3  ...   7.2500   NaN         S\n",
       "1            2         1       1  ...  71.2833   C85         C\n",
       "\n",
       "[2 rows x 12 columns]"
      ]
     },
     "execution_count": 68,
     "metadata": {
      "tags": []
     },
     "output_type": "execute_result"
    }
   ],
   "source": [
    "# Url archivo raw\n",
    "url = \"https://raw.githubusercontent.com/astrojuanlu/the-valley-mds-arboles/main/data/titanic.csv\"\n",
    "\n",
    "# Importa csv\n",
    "df_titanic = pd.read_csv(url)\n",
    "\n",
    "# Visualización primeras filas\n",
    "df_titanic.head(2)"
   ]
  },
  {
   "cell_type": "markdown",
   "metadata": {
    "id": "gS0_ouF8qiVz"
   },
   "source": [
    "## 0602 Prepara los datos\n",
    "Quédate con las variables interesantes, dumifica las categóricas y limpia los nulos."
   ]
  },
  {
   "cell_type": "code",
   "execution_count": null,
   "metadata": {
    "id": "usrTVnmX2_ih"
   },
   "outputs": [],
   "source": [
    "# Creamos una nueva variable Título (esto es opcional, pero podría ayudar al modelo)\n",
    "df_titanic[\"Title\"] = [\n",
    "    name.split(\",\")[1].split(\".\")[0][1:] for name in df_titanic[\"Name\"]\n",
    "]"
   ]
  },
  {
   "cell_type": "code",
   "execution_count": null,
   "metadata": {
    "colab": {
     "base_uri": "https://localhost:8080/"
    },
    "id": "60P6G1BxzWBD",
    "outputId": "ff95ed9a-b9e5-4ca6-c282-cbaf02351de8"
   },
   "outputs": [
    {
     "data": {
      "text/plain": [
       "Index(['PassengerId', 'Survived', 'Pclass', 'Name', 'Sex', 'Age', 'SibSp',\n",
       "       'Parch', 'Ticket', 'Fare', 'Cabin', 'Embarked', 'Title'],\n",
       "      dtype='object')"
      ]
     },
     "execution_count": 70,
     "metadata": {
      "tags": []
     },
     "output_type": "execute_result"
    }
   ],
   "source": [
    "df_titanic.columns"
   ]
  },
  {
   "cell_type": "code",
   "execution_count": null,
   "metadata": {
    "id": "TMPuI37s3JM3"
   },
   "outputs": [],
   "source": [
    "# Descartamos ciertas columnas con oel nombre, o la cabina\n",
    "# Tienen muchas posibles categorías, pero deberían ser buenas para predecir el target\n",
    "# sobre datos no vistos\n",
    "cols = [\n",
    "    \"Survived\",\n",
    "    \"Pclass\",\n",
    "    \"Sex\",\n",
    "    \"Age\",\n",
    "    \"SibSp\",\n",
    "    \"Parch\",\n",
    "    \"Fare\",\n",
    "    \"Embarked\",\n",
    "    \"Title\",\n",
    "]\n",
    "cat_cols = [\"Sex\", \"Embarked\", \"Title\"]"
   ]
  },
  {
   "cell_type": "code",
   "execution_count": null,
   "metadata": {
    "colab": {
     "base_uri": "https://localhost:8080/",
     "height": 204
    },
    "id": "prPrisfa4RA-",
    "outputId": "bed57ff1-533f-4848-b8a8-c2f01b5b0547"
   },
   "outputs": [
    {
     "data": {
      "text/html": [
       "<div>\n",
       "<style scoped>\n",
       "    .dataframe tbody tr th:only-of-type {\n",
       "        vertical-align: middle;\n",
       "    }\n",
       "\n",
       "    .dataframe tbody tr th {\n",
       "        vertical-align: top;\n",
       "    }\n",
       "\n",
       "    .dataframe thead th {\n",
       "        text-align: right;\n",
       "    }\n",
       "</style>\n",
       "<table border=\"1\" class=\"dataframe\">\n",
       "  <thead>\n",
       "    <tr style=\"text-align: right;\">\n",
       "      <th></th>\n",
       "      <th>Survived</th>\n",
       "      <th>Pclass</th>\n",
       "      <th>Sex</th>\n",
       "      <th>Age</th>\n",
       "      <th>SibSp</th>\n",
       "      <th>Parch</th>\n",
       "      <th>Fare</th>\n",
       "      <th>Embarked</th>\n",
       "      <th>Title</th>\n",
       "    </tr>\n",
       "  </thead>\n",
       "  <tbody>\n",
       "    <tr>\n",
       "      <th>0</th>\n",
       "      <td>0</td>\n",
       "      <td>3</td>\n",
       "      <td>male</td>\n",
       "      <td>22.0</td>\n",
       "      <td>1</td>\n",
       "      <td>0</td>\n",
       "      <td>7.2500</td>\n",
       "      <td>S</td>\n",
       "      <td>Mr</td>\n",
       "    </tr>\n",
       "    <tr>\n",
       "      <th>1</th>\n",
       "      <td>1</td>\n",
       "      <td>1</td>\n",
       "      <td>female</td>\n",
       "      <td>38.0</td>\n",
       "      <td>1</td>\n",
       "      <td>0</td>\n",
       "      <td>71.2833</td>\n",
       "      <td>C</td>\n",
       "      <td>Mrs</td>\n",
       "    </tr>\n",
       "    <tr>\n",
       "      <th>2</th>\n",
       "      <td>1</td>\n",
       "      <td>3</td>\n",
       "      <td>female</td>\n",
       "      <td>26.0</td>\n",
       "      <td>0</td>\n",
       "      <td>0</td>\n",
       "      <td>7.9250</td>\n",
       "      <td>S</td>\n",
       "      <td>Miss</td>\n",
       "    </tr>\n",
       "    <tr>\n",
       "      <th>3</th>\n",
       "      <td>1</td>\n",
       "      <td>1</td>\n",
       "      <td>female</td>\n",
       "      <td>35.0</td>\n",
       "      <td>1</td>\n",
       "      <td>0</td>\n",
       "      <td>53.1000</td>\n",
       "      <td>S</td>\n",
       "      <td>Mrs</td>\n",
       "    </tr>\n",
       "    <tr>\n",
       "      <th>4</th>\n",
       "      <td>0</td>\n",
       "      <td>3</td>\n",
       "      <td>male</td>\n",
       "      <td>35.0</td>\n",
       "      <td>0</td>\n",
       "      <td>0</td>\n",
       "      <td>8.0500</td>\n",
       "      <td>S</td>\n",
       "      <td>Mr</td>\n",
       "    </tr>\n",
       "  </tbody>\n",
       "</table>\n",
       "</div>"
      ],
      "text/plain": [
       "   Survived  Pclass     Sex   Age  SibSp  Parch     Fare Embarked Title\n",
       "0         0       3    male  22.0      1      0   7.2500        S    Mr\n",
       "1         1       1  female  38.0      1      0  71.2833        C   Mrs\n",
       "2         1       3  female  26.0      0      0   7.9250        S  Miss\n",
       "3         1       1  female  35.0      1      0  53.1000        S   Mrs\n",
       "4         0       3    male  35.0      0      0   8.0500        S    Mr"
      ]
     },
     "execution_count": 72,
     "metadata": {
      "tags": []
     },
     "output_type": "execute_result"
    }
   ],
   "source": [
    "df_titanic[cols].head()"
   ]
  },
  {
   "cell_type": "code",
   "execution_count": null,
   "metadata": {
    "colab": {
     "base_uri": "https://localhost:8080/"
    },
    "id": "0rMMqRCX5oGm",
    "outputId": "ef14102f-b938-48e3-b69c-fd85ee05f1e9"
   },
   "outputs": [
    {
     "data": {
      "text/plain": [
       "PassengerId      0\n",
       "Survived         0\n",
       "Pclass           0\n",
       "Name             0\n",
       "Sex              0\n",
       "Age            177\n",
       "SibSp            0\n",
       "Parch            0\n",
       "Ticket           0\n",
       "Fare             0\n",
       "Cabin          687\n",
       "Embarked         2\n",
       "Title            0\n",
       "dtype: int64"
      ]
     },
     "execution_count": 73,
     "metadata": {
      "tags": []
     },
     "output_type": "execute_result"
    }
   ],
   "source": [
    "# Rellenamos los nulos de las variables numéricas (edad)\n",
    "df_titanic.isna().sum()"
   ]
  },
  {
   "cell_type": "code",
   "execution_count": null,
   "metadata": {
    "colab": {
     "base_uri": "https://localhost:8080/"
    },
    "id": "WTmu92EY6wBm",
    "outputId": "242acb0b-033d-4687-f7ae-41751200c211"
   },
   "outputs": [
    {
     "name": "stdout",
     "output_type": "stream",
     "text": [
      "Mr\n",
      "Mrs\n",
      "Miss\n",
      "Master\n",
      "Rev\n",
      "Dr\n"
     ]
    }
   ],
   "source": [
    "filtro_edad_nula = df_titanic[\"Age\"].isna()\n",
    "filtro_edad_no_nula = df_titanic[\"Age\"].notnull()\n",
    "\n",
    "# Rellenamos los nulos\n",
    "for titulo in df_titanic[\"Title\"].unique():\n",
    "    filtro_titulo = df_titanic[\"Title\"] == titulo\n",
    "\n",
    "    if len(df_titanic[((filtro_titulo) & (filtro_edad_no_nula))]) > 2:\n",
    "        print(titulo)\n",
    "        df_titanic.loc[((filtro_titulo) & (filtro_edad_nula)), \"Age\"] = df_titanic.loc[\n",
    "            ((filtro_titulo) & (filtro_edad_no_nula)), \"Age\"\n",
    "        ].median()\n",
    "\n",
    "# Rellenamos los que sigan siendo nulos (títulos solo presentes entre gente sin la edad informada)\n",
    "df_titanic[\"Age\"] = df_titanic[\"Age\"].fillna(df_titanic[\"Age\"].median())"
   ]
  },
  {
   "cell_type": "code",
   "execution_count": null,
   "metadata": {
    "colab": {
     "base_uri": "https://localhost:8080/",
     "height": 241
    },
    "id": "58IzhBMiqgNK",
    "outputId": "95476a4a-7102-436d-9f11-5e8082ea0666"
   },
   "outputs": [
    {
     "data": {
      "text/html": [
       "<div>\n",
       "<style scoped>\n",
       "    .dataframe tbody tr th:only-of-type {\n",
       "        vertical-align: middle;\n",
       "    }\n",
       "\n",
       "    .dataframe tbody tr th {\n",
       "        vertical-align: top;\n",
       "    }\n",
       "\n",
       "    .dataframe thead th {\n",
       "        text-align: right;\n",
       "    }\n",
       "</style>\n",
       "<table border=\"1\" class=\"dataframe\">\n",
       "  <thead>\n",
       "    <tr style=\"text-align: right;\">\n",
       "      <th></th>\n",
       "      <th>Survived</th>\n",
       "      <th>Pclass</th>\n",
       "      <th>Age</th>\n",
       "      <th>SibSp</th>\n",
       "      <th>Parch</th>\n",
       "      <th>Fare</th>\n",
       "      <th>Sex_male</th>\n",
       "      <th>Embarked_Q</th>\n",
       "      <th>Embarked_S</th>\n",
       "      <th>Title_Col</th>\n",
       "      <th>Title_Don</th>\n",
       "      <th>Title_Dr</th>\n",
       "      <th>Title_Jonkheer</th>\n",
       "      <th>Title_Lady</th>\n",
       "      <th>Title_Major</th>\n",
       "      <th>Title_Master</th>\n",
       "      <th>Title_Miss</th>\n",
       "      <th>Title_Mlle</th>\n",
       "      <th>Title_Mme</th>\n",
       "      <th>Title_Mr</th>\n",
       "      <th>Title_Mrs</th>\n",
       "      <th>Title_Ms</th>\n",
       "      <th>Title_Rev</th>\n",
       "      <th>Title_Sir</th>\n",
       "      <th>Title_the Countess</th>\n",
       "    </tr>\n",
       "  </thead>\n",
       "  <tbody>\n",
       "    <tr>\n",
       "      <th>0</th>\n",
       "      <td>0</td>\n",
       "      <td>3</td>\n",
       "      <td>22.0</td>\n",
       "      <td>1</td>\n",
       "      <td>0</td>\n",
       "      <td>7.2500</td>\n",
       "      <td>1</td>\n",
       "      <td>0</td>\n",
       "      <td>1</td>\n",
       "      <td>0</td>\n",
       "      <td>0</td>\n",
       "      <td>0</td>\n",
       "      <td>0</td>\n",
       "      <td>0</td>\n",
       "      <td>0</td>\n",
       "      <td>0</td>\n",
       "      <td>0</td>\n",
       "      <td>0</td>\n",
       "      <td>0</td>\n",
       "      <td>1</td>\n",
       "      <td>0</td>\n",
       "      <td>0</td>\n",
       "      <td>0</td>\n",
       "      <td>0</td>\n",
       "      <td>0</td>\n",
       "    </tr>\n",
       "    <tr>\n",
       "      <th>1</th>\n",
       "      <td>1</td>\n",
       "      <td>1</td>\n",
       "      <td>38.0</td>\n",
       "      <td>1</td>\n",
       "      <td>0</td>\n",
       "      <td>71.2833</td>\n",
       "      <td>0</td>\n",
       "      <td>0</td>\n",
       "      <td>0</td>\n",
       "      <td>0</td>\n",
       "      <td>0</td>\n",
       "      <td>0</td>\n",
       "      <td>0</td>\n",
       "      <td>0</td>\n",
       "      <td>0</td>\n",
       "      <td>0</td>\n",
       "      <td>0</td>\n",
       "      <td>0</td>\n",
       "      <td>0</td>\n",
       "      <td>0</td>\n",
       "      <td>1</td>\n",
       "      <td>0</td>\n",
       "      <td>0</td>\n",
       "      <td>0</td>\n",
       "      <td>0</td>\n",
       "    </tr>\n",
       "    <tr>\n",
       "      <th>2</th>\n",
       "      <td>1</td>\n",
       "      <td>3</td>\n",
       "      <td>26.0</td>\n",
       "      <td>0</td>\n",
       "      <td>0</td>\n",
       "      <td>7.9250</td>\n",
       "      <td>0</td>\n",
       "      <td>0</td>\n",
       "      <td>1</td>\n",
       "      <td>0</td>\n",
       "      <td>0</td>\n",
       "      <td>0</td>\n",
       "      <td>0</td>\n",
       "      <td>0</td>\n",
       "      <td>0</td>\n",
       "      <td>0</td>\n",
       "      <td>1</td>\n",
       "      <td>0</td>\n",
       "      <td>0</td>\n",
       "      <td>0</td>\n",
       "      <td>0</td>\n",
       "      <td>0</td>\n",
       "      <td>0</td>\n",
       "      <td>0</td>\n",
       "      <td>0</td>\n",
       "    </tr>\n",
       "    <tr>\n",
       "      <th>3</th>\n",
       "      <td>1</td>\n",
       "      <td>1</td>\n",
       "      <td>35.0</td>\n",
       "      <td>1</td>\n",
       "      <td>0</td>\n",
       "      <td>53.1000</td>\n",
       "      <td>0</td>\n",
       "      <td>0</td>\n",
       "      <td>1</td>\n",
       "      <td>0</td>\n",
       "      <td>0</td>\n",
       "      <td>0</td>\n",
       "      <td>0</td>\n",
       "      <td>0</td>\n",
       "      <td>0</td>\n",
       "      <td>0</td>\n",
       "      <td>0</td>\n",
       "      <td>0</td>\n",
       "      <td>0</td>\n",
       "      <td>0</td>\n",
       "      <td>1</td>\n",
       "      <td>0</td>\n",
       "      <td>0</td>\n",
       "      <td>0</td>\n",
       "      <td>0</td>\n",
       "    </tr>\n",
       "    <tr>\n",
       "      <th>4</th>\n",
       "      <td>0</td>\n",
       "      <td>3</td>\n",
       "      <td>35.0</td>\n",
       "      <td>0</td>\n",
       "      <td>0</td>\n",
       "      <td>8.0500</td>\n",
       "      <td>1</td>\n",
       "      <td>0</td>\n",
       "      <td>1</td>\n",
       "      <td>0</td>\n",
       "      <td>0</td>\n",
       "      <td>0</td>\n",
       "      <td>0</td>\n",
       "      <td>0</td>\n",
       "      <td>0</td>\n",
       "      <td>0</td>\n",
       "      <td>0</td>\n",
       "      <td>0</td>\n",
       "      <td>0</td>\n",
       "      <td>1</td>\n",
       "      <td>0</td>\n",
       "      <td>0</td>\n",
       "      <td>0</td>\n",
       "      <td>0</td>\n",
       "      <td>0</td>\n",
       "    </tr>\n",
       "  </tbody>\n",
       "</table>\n",
       "</div>"
      ],
      "text/plain": [
       "   Survived  Pclass   Age  ...  Title_Rev  Title_Sir  Title_the Countess\n",
       "0         0       3  22.0  ...          0          0                   0\n",
       "1         1       1  38.0  ...          0          0                   0\n",
       "2         1       3  26.0  ...          0          0                   0\n",
       "3         1       1  35.0  ...          0          0                   0\n",
       "4         0       3  35.0  ...          0          0                   0\n",
       "\n",
       "[5 rows x 25 columns]"
      ]
     },
     "execution_count": 75,
     "metadata": {
      "tags": []
     },
     "output_type": "execute_result"
    }
   ],
   "source": [
    "# Dumificamos variables categóricas\n",
    "df_titanic_i = pd.get_dummies(\n",
    "    df_titanic[cols], prefix_sep=\"_\", drop_first=True, columns=cat_cols\n",
    ")\n",
    "df_titanic_i.head()"
   ]
  },
  {
   "cell_type": "code",
   "execution_count": null,
   "metadata": {
    "colab": {
     "base_uri": "https://localhost:8080/"
    },
    "id": "s4Dm2dao5ymZ",
    "outputId": "7edf34cc-4fa4-4ead-9042-af5b671f84ee"
   },
   "outputs": [
    {
     "data": {
      "text/plain": [
       "Survived              0\n",
       "Pclass                0\n",
       "Age                   0\n",
       "SibSp                 0\n",
       "Parch                 0\n",
       "Fare                  0\n",
       "Sex_male              0\n",
       "Embarked_Q            0\n",
       "Embarked_S            0\n",
       "Title_Col             0\n",
       "Title_Don             0\n",
       "Title_Dr              0\n",
       "Title_Jonkheer        0\n",
       "Title_Lady            0\n",
       "Title_Major           0\n",
       "Title_Master          0\n",
       "Title_Miss            0\n",
       "Title_Mlle            0\n",
       "Title_Mme             0\n",
       "Title_Mr              0\n",
       "Title_Mrs             0\n",
       "Title_Ms              0\n",
       "Title_Rev             0\n",
       "Title_Sir             0\n",
       "Title_the Countess    0\n",
       "dtype: int64"
      ]
     },
     "execution_count": 77,
     "metadata": {
      "tags": []
     },
     "output_type": "execute_result"
    }
   ],
   "source": [
    "df_titanic_i.isna().sum()"
   ]
  },
  {
   "cell_type": "markdown",
   "metadata": {
    "id": "WvI6ugAjqyAT"
   },
   "source": [
    "## 0603 Train - test split\n",
    "Utiliza una partición del 30% para tu set de pruebas."
   ]
  },
  {
   "cell_type": "code",
   "execution_count": null,
   "metadata": {
    "colab": {
     "base_uri": "https://localhost:8080/"
    },
    "id": "WStzxcVa709W",
    "outputId": "97702de0-1fe8-4aa6-b3f8-1bcb4d30c92b"
   },
   "outputs": [
    {
     "data": {
      "text/plain": [
       "(891, 891)"
      ]
     },
     "execution_count": 78,
     "metadata": {
      "tags": []
     },
     "output_type": "execute_result"
    }
   ],
   "source": [
    "X = df_titanic_i.drop(\"Survived\", axis=1)\n",
    "y = df_titanic_i[\"Survived\"]\n",
    "\n",
    "len(X), len(y)"
   ]
  },
  {
   "cell_type": "code",
   "execution_count": null,
   "metadata": {
    "id": "63hnxlk1709Y"
   },
   "outputs": [],
   "source": [
    "from sklearn.model_selection import train_test_split\n",
    "\n",
    "X_train, X_test, y_train, y_test = train_test_split(\n",
    "    X, y, test_size=0.33, random_state=42\n",
    ")"
   ]
  },
  {
   "cell_type": "markdown",
   "metadata": {
    "id": "tgZiyRv7q_09"
   },
   "source": [
    "## 0404 Entrena varios árboles\n",
    "Entrena varios árboles de decisión controlando los distintos parámetros para buscar el punto óptimo entre bias y varianza."
   ]
  },
  {
   "cell_type": "code",
   "execution_count": null,
   "metadata": {
    "id": "rW5nSkdUrJzA"
   },
   "outputs": [],
   "source": [
    "def entrenar_modelo_y_predecir_classificacion(modelo):\n",
    "    # Entreno el árbol con el set de entrenamiento\n",
    "    modelo = modelo.fit(X=X_train, y=y_train)\n",
    "    # Uso el árbol para predecir sobre el dataset de entrenamiento\n",
    "    y_pred_train = modelo.predict(X_train)\n",
    "    # Uso el árbol para predecir sobre el dataset de test\n",
    "    y_pred_test = modelo.predict(X_test)\n",
    "    # Cómo de buena es la predicción?\n",
    "    ac_train = round(accuracy_score(y_train, y_pred_train), 4)\n",
    "    print(\"Precisión en set de entrenamiento :\", ac_train)\n",
    "    ac_test = round(accuracy_score(y_test, y_pred_test), 4)\n",
    "    print(\"Precisión en set de test :\", ac_test)\n",
    "    print(\"Degradación: \", round((ac_train - ac_test) / ac_train * 100, 2), \"%\")"
   ]
  },
  {
   "cell_type": "code",
   "execution_count": null,
   "metadata": {
    "colab": {
     "base_uri": "https://localhost:8080/"
    },
    "id": "0rIWPu2t857Z",
    "outputId": "fef94440-a06a-421b-ec30-7c6e02c4fcbb"
   },
   "outputs": [
    {
     "name": "stdout",
     "output_type": "stream",
     "text": [
      "Precisión en set de entrenamiento : 0.9346\n",
      "Precisión en set de test : 0.8\n",
      "Degradación:  14.4 %\n"
     ]
    }
   ],
   "source": [
    "# Inicializo un árbol con 10 de profundidad\n",
    "modelo = tree.DecisionTreeClassifier(max_depth=10)\n",
    "# Entrenamos y predecimos con dicho modelo\n",
    "entrenar_modelo_y_predecir_classificacion(modelo)"
   ]
  },
  {
   "cell_type": "code",
   "execution_count": null,
   "metadata": {
    "colab": {
     "base_uri": "https://localhost:8080/"
    },
    "id": "-BnNN4oP9W-T",
    "outputId": "5b16b42b-77a1-477e-bdf9-835ba2f39659"
   },
   "outputs": [
    {
     "name": "stdout",
     "output_type": "stream",
     "text": [
      "Precisión en set de entrenamiento : 0.9782\n",
      "Precisión en set de test : 0.7661\n",
      "Degradación:  21.68 %\n"
     ]
    }
   ],
   "source": [
    "# Más profundidad = overfitting\n",
    "modelo = tree.DecisionTreeClassifier(max_depth=20)\n",
    "# Entrenamos y predecimos con dicho modelo\n",
    "entrenar_modelo_y_predecir_classificacion(modelo)"
   ]
  },
  {
   "cell_type": "code",
   "execution_count": null,
   "metadata": {
    "colab": {
     "base_uri": "https://localhost:8080/"
    },
    "id": "M-_snWUB9dQ_",
    "outputId": "4c2e5acd-dae2-4ab1-ee79-92fbf03c2d25"
   },
   "outputs": [
    {
     "name": "stdout",
     "output_type": "stream",
     "text": [
      "Precisión en set de entrenamiento : 0.9195\n",
      "Precisión en set de test : 0.7695\n",
      "Degradación:  16.31 %\n"
     ]
    }
   ],
   "source": [
    "# Añadimos medidas contra overfitting\n",
    "modelo = tree.DecisionTreeClassifier(max_depth=15, min_samples_split=10)\n",
    "# Entrenamos y predecimos con dicho modelo\n",
    "entrenar_modelo_y_predecir_classificacion(modelo)"
   ]
  },
  {
   "cell_type": "code",
   "execution_count": null,
   "metadata": {
    "colab": {
     "base_uri": "https://localhost:8080/"
    },
    "id": "k_Gnty2Y9oy_",
    "outputId": "3b9fc9a4-56c6-4bc5-b29b-f58fe1825452"
   },
   "outputs": [
    {
     "name": "stdout",
     "output_type": "stream",
     "text": [
      "Precisión en set de entrenamiento : 0.8322\n",
      "Precisión en set de test : 0.8068\n",
      "Degradación:  3.05 %\n"
     ]
    }
   ],
   "source": [
    "# Añadimos medidas contra overfitting: reducimos profundidad\n",
    "modelo = tree.DecisionTreeClassifier(max_depth=4, min_samples_leaf=2)\n",
    "# Entrenamos y predecimos con dicho modelo\n",
    "entrenar_modelo_y_predecir_classificacion(modelo)"
   ]
  },
  {
   "cell_type": "code",
   "execution_count": null,
   "metadata": {
    "colab": {
     "base_uri": "https://localhost:8080/"
    },
    "id": "BzxLyyrl-EVu",
    "outputId": "9aa81703-d3a8-4968-ed76-2f99cae9c31e"
   },
   "outputs": [
    {
     "name": "stdout",
     "output_type": "stream",
     "text": [
      "Precisión en set de entrenamiento : 0.8305\n",
      "Precisión en set de test : 0.8102\n",
      "Degradación:  2.44 %\n"
     ]
    }
   ],
   "source": [
    "# Añadimos medidas contra overfitting: ampliamos mínima muestra en nodo terminal\n",
    "modelo = tree.DecisionTreeClassifier(max_depth=4, min_samples_leaf=5)\n",
    "# Entrenamos y predecimos con dicho modelo\n",
    "entrenar_modelo_y_predecir_classificacion(modelo)"
   ]
  }
 ],
 "metadata": {
  "kernelspec": {
   "display_name": "Python 3 (ipykernel)",
   "language": "python",
   "name": "python3"
  },
  "language_info": {
   "codemirror_mode": {
    "name": "ipython",
    "version": 3
   },
   "file_extension": ".py",
   "mimetype": "text/x-python",
   "name": "python",
   "nbconvert_exporter": "python",
   "pygments_lexer": "ipython3",
   "version": "3.10.11"
  }
 },
 "nbformat": 4,
 "nbformat_minor": 4
}
